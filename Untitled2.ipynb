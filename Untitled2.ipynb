{
 "cells": [
  {
   "cell_type": "code",
   "execution_count": 1,
   "id": "8bcf39c4",
   "metadata": {},
   "outputs": [
    {
     "name": "stdout",
     "output_type": "stream",
     "text": [
      "Collecting looker-sdk\n",
      "  Downloading looker_sdk-22.10.0-py3-none-any.whl (337 kB)\n",
      "Collecting cattrs>=1.3\n",
      "  Downloading cattrs-22.1.0-py3-none-any.whl (33 kB)\n",
      "Collecting typing-extensions>=4.1.1\n",
      "  Downloading typing_extensions-4.3.0-py3-none-any.whl (25 kB)\n",
      "Requirement already satisfied: requests>=2.22 in c:\\users\\administrator\\anaconda3\\lib\\site-packages (from looker-sdk) (2.26.0)\n",
      "Requirement already satisfied: attrs>=20.1.0 in c:\\users\\administrator\\anaconda3\\lib\\site-packages (from looker-sdk) (21.2.0)\n",
      "Collecting exceptiongroup\n",
      "  Downloading exceptiongroup-1.0.0rc8-py3-none-any.whl (11 kB)\n",
      "Requirement already satisfied: urllib3<1.27,>=1.21.1 in c:\\users\\administrator\\anaconda3\\lib\\site-packages (from requests>=2.22->looker-sdk) (1.26.7)\n",
      "Requirement already satisfied: charset-normalizer~=2.0.0 in c:\\users\\administrator\\anaconda3\\lib\\site-packages (from requests>=2.22->looker-sdk) (2.0.4)\n",
      "Requirement already satisfied: certifi>=2017.4.17 in c:\\users\\administrator\\anaconda3\\lib\\site-packages (from requests>=2.22->looker-sdk) (2021.10.8)\n",
      "Requirement already satisfied: idna<4,>=2.5 in c:\\users\\administrator\\anaconda3\\lib\\site-packages (from requests>=2.22->looker-sdk) (3.2)\n",
      "Installing collected packages: exceptiongroup, typing-extensions, cattrs, looker-sdk\n",
      "  Attempting uninstall: typing-extensions\n",
      "    Found existing installation: typing-extensions 3.10.0.2\n",
      "    Uninstalling typing-extensions-3.10.0.2:\n",
      "      Successfully uninstalled typing-extensions-3.10.0.2\n",
      "Successfully installed cattrs-22.1.0 exceptiongroup-1.0.0rc8 looker-sdk-22.10.0 typing-extensions-4.3.0\n",
      "Note: you may need to restart the kernel to use updated packages.\n"
     ]
    }
   ],
   "source": [
    "pip install looker-sdk"
   ]
  },
  {
   "cell_type": "code",
   "execution_count": null,
   "id": "da784eb6",
   "metadata": {},
   "outputs": [],
   "source": [
    "import os\n",
    "import looker_sdk\n",
    "os.environ[\"LOOKERSDK_BASE_URL\"] = \"https://propellantdigital.cloud.\n",
    "looker.com\"\n",
    "os.environ[\"LOOKERSDK_CLIENT_ID\"] = \"XXX\"\n",
    "os.environ[\"LOOKERSDK_CLIENT_SECRET\"] = \"XXX\"\n",
    "sdk = looker_sdk.init40()\n",
    "# posttrade rts2\n",
    "explore_id = \"LcNCDvomHr6loTz6cTBQcc\"\n",
    "explore_query = sdk.query_for_slug(slug=explore_id)\n",
    "print(\"Query: \" + str(explore_query))\n",
    "result = sdk.run_query(\n",
    " explore_query.id,\n",
    " result_format=\"csv\",\n",
    " limit= 50)\n",
    "print(result)"
   ]
  },
  {
   "cell_type": "code",
   "execution_count": 2,
   "id": "0afed9f0",
   "metadata": {},
   "outputs": [
    {
     "name": "stdout",
     "output_type": "stream",
     "text": [
      "Requirement already satisfied: google-cloud-bigquery in c:\\users\\administrator\\anaconda3\\lib\\site-packages (3.2.0)Note: you may need to restart the kernel to use updated packages.\n",
      "\n",
      "Requirement already satisfied: pyarrow<9.0dev,>=3.0.0 in c:\\users\\administrator\\anaconda3\\lib\\site-packages (from google-cloud-bigquery) (7.0.0)\n",
      "Requirement already satisfied: proto-plus<2.0.0dev,>=1.15.0 in c:\\users\\administrator\\anaconda3\\lib\\site-packages (from google-cloud-bigquery) (1.20.6)\n",
      "Requirement already satisfied: google-resumable-media<3.0dev,>=0.6.0 in c:\\users\\administrator\\anaconda3\\lib\\site-packages (from google-cloud-bigquery) (2.3.3)\n",
      "Requirement already satisfied: google-api-core[grpc]!=2.0.*,!=2.1.*,!=2.2.*,!=2.3.0,<3.0.0dev,>=1.31.5 in c:\\users\\administrator\\anaconda3\\lib\\site-packages (from google-cloud-bigquery) (2.8.2)\n",
      "Requirement already satisfied: python-dateutil<3.0dev,>=2.7.2 in c:\\users\\administrator\\anaconda3\\lib\\site-packages (from google-cloud-bigquery) (2.8.2)\n",
      "Requirement already satisfied: packaging<22.0.0dev,>=14.3 in c:\\users\\administrator\\anaconda3\\lib\\site-packages (from google-cloud-bigquery) (21.0)\n",
      "Requirement already satisfied: google-cloud-bigquery-storage<3.0.0dev,>=2.0.0 in c:\\users\\administrator\\anaconda3\\lib\\site-packages (from google-cloud-bigquery) (2.13.2)\n",
      "Requirement already satisfied: grpcio<2.0dev,>=1.38.1 in c:\\users\\administrator\\anaconda3\\lib\\site-packages (from google-cloud-bigquery) (1.46.3)\n",
      "Requirement already satisfied: requests<3.0.0dev,>=2.18.0 in c:\\users\\administrator\\anaconda3\\lib\\site-packages (from google-cloud-bigquery) (2.26.0)\n",
      "Requirement already satisfied: protobuf<4.0.0dev,>=3.12.0 in c:\\users\\administrator\\anaconda3\\lib\\site-packages (from google-cloud-bigquery) (3.20.1)\n",
      "Requirement already satisfied: google-cloud-core<3.0.0dev,>=1.4.1 in c:\\users\\administrator\\anaconda3\\lib\\site-packages (from google-cloud-bigquery) (2.3.1)\n",
      "Requirement already satisfied: googleapis-common-protos<2.0dev,>=1.56.2 in c:\\users\\administrator\\anaconda3\\lib\\site-packages (from google-api-core[grpc]!=2.0.*,!=2.1.*,!=2.2.*,!=2.3.0,<3.0.0dev,>=1.31.5->google-cloud-bigquery) (1.56.3)\n",
      "Requirement already satisfied: google-auth<3.0dev,>=1.25.0 in c:\\users\\administrator\\anaconda3\\lib\\site-packages (from google-api-core[grpc]!=2.0.*,!=2.1.*,!=2.2.*,!=2.3.0,<3.0.0dev,>=1.31.5->google-cloud-bigquery) (2.6.6)\n",
      "Requirement already satisfied: grpcio-status<2.0dev,>=1.33.2 in c:\\users\\administrator\\anaconda3\\lib\\site-packages (from google-api-core[grpc]!=2.0.*,!=2.1.*,!=2.2.*,!=2.3.0,<3.0.0dev,>=1.31.5->google-cloud-bigquery) (1.46.3)\n",
      "Requirement already satisfied: cachetools<6.0,>=2.0.0 in c:\\users\\administrator\\anaconda3\\lib\\site-packages (from google-auth<3.0dev,>=1.25.0->google-api-core[grpc]!=2.0.*,!=2.1.*,!=2.2.*,!=2.3.0,<3.0.0dev,>=1.31.5->google-cloud-bigquery) (5.0.0)\n",
      "Requirement already satisfied: six>=1.9.0 in c:\\users\\administrator\\anaconda3\\lib\\site-packages (from google-auth<3.0dev,>=1.25.0->google-api-core[grpc]!=2.0.*,!=2.1.*,!=2.2.*,!=2.3.0,<3.0.0dev,>=1.31.5->google-cloud-bigquery) (1.16.0)\n",
      "Requirement already satisfied: pyasn1-modules>=0.2.1 in c:\\users\\administrator\\anaconda3\\lib\\site-packages (from google-auth<3.0dev,>=1.25.0->google-api-core[grpc]!=2.0.*,!=2.1.*,!=2.2.*,!=2.3.0,<3.0.0dev,>=1.31.5->google-cloud-bigquery) (0.2.8)\n",
      "Requirement already satisfied: rsa<5,>=3.1.4 in c:\\users\\administrator\\anaconda3\\lib\\site-packages (from google-auth<3.0dev,>=1.25.0->google-api-core[grpc]!=2.0.*,!=2.1.*,!=2.2.*,!=2.3.0,<3.0.0dev,>=1.31.5->google-cloud-bigquery) (4.8)\n",
      "Requirement already satisfied: google-crc32c<2.0dev,>=1.0 in c:\\users\\administrator\\anaconda3\\lib\\site-packages (from google-resumable-media<3.0dev,>=0.6.0->google-cloud-bigquery) (1.3.0)\n",
      "Requirement already satisfied: pyparsing>=2.0.2 in c:\\users\\administrator\\anaconda3\\lib\\site-packages (from packaging<22.0.0dev,>=14.3->google-cloud-bigquery) (3.0.4)\n",
      "Requirement already satisfied: numpy>=1.16.6 in c:\\users\\administrator\\anaconda3\\lib\\site-packages (from pyarrow<9.0dev,>=3.0.0->google-cloud-bigquery) (1.20.3)\n",
      "Requirement already satisfied: pyasn1<0.5.0,>=0.4.6 in c:\\users\\administrator\\anaconda3\\lib\\site-packages (from pyasn1-modules>=0.2.1->google-auth<3.0dev,>=1.25.0->google-api-core[grpc]!=2.0.*,!=2.1.*,!=2.2.*,!=2.3.0,<3.0.0dev,>=1.31.5->google-cloud-bigquery) (0.4.8)\n",
      "Requirement already satisfied: charset-normalizer~=2.0.0 in c:\\users\\administrator\\anaconda3\\lib\\site-packages (from requests<3.0.0dev,>=2.18.0->google-cloud-bigquery) (2.0.4)\n",
      "Requirement already satisfied: idna<4,>=2.5 in c:\\users\\administrator\\anaconda3\\lib\\site-packages (from requests<3.0.0dev,>=2.18.0->google-cloud-bigquery) (3.2)\n",
      "Requirement already satisfied: urllib3<1.27,>=1.21.1 in c:\\users\\administrator\\anaconda3\\lib\\site-packages (from requests<3.0.0dev,>=2.18.0->google-cloud-bigquery) (1.26.7)\n",
      "Requirement already satisfied: certifi>=2017.4.17 in c:\\users\\administrator\\anaconda3\\lib\\site-packages (from requests<3.0.0dev,>=2.18.0->google-cloud-bigquery) (2021.10.8)\n"
     ]
    }
   ],
   "source": [
    "pip install --upgrade google-cloud-bigquery\n"
   ]
  },
  {
   "cell_type": "code",
   "execution_count": null,
   "id": "90c9052a",
   "metadata": {},
   "outputs": [],
   "source": [
    "\n",
    "from google.cloud import bigquery\n",
    "import os\n",
    "os.environ[\"GOOGLE_APPLICATION_CREDENTIALS\"] = \"/market-data/application/functions/looker-api-example/pd-prod-bristol-e0be-6c1ab6198c00.json\"\n",
    "def query():\n",
    "    \n",
    " # Construct a BigQuery client object. \n",
    " client = bigquery.Client() \n",
    " query = \"\"\"SELECT TRADING_DATE_AND_TIME, PRICE\n",
    " FROM `pd-prod-bristol-e0be.looker_connectors.\n",
    "historical_rts2`\n",
    " WHERE date = \"2022-03-30\"\n",
    " limit 1000\n",
    " \"\"\" \n",
    " query_job = client.query(query) # Make an API request. \n",
    " query_job.result() # Wait for the query to complete. \n",
    " \n",
    "\n",
    " print(\"The query data:\")\n",
    " done = False\n",
    " start_at_record = 0\n",
    " page_size = 20\n",
    " while not done:\n",
    " rows = client.list_rows(destination, page_size=20, \n",
    "start_index=start_at_record)\n",
    " count = 0\n",
    " for row in rows:\n",
    " count +=1\n",
    " print(count, \" trading_date_time={}, price={}\".format(row\n",
    "[\"TRADING_DATE_AND_TIME\"], row[\"PRICE\"]))\n",
    " if count != page_size:\n",
    " done = True\n",
    " start_at_record += page_size\n",
    " \n",
    "if __name__ == \"__main__\":\n",
    " query()"
   ]
  }
 ],
 "metadata": {
  "kernelspec": {
   "display_name": "Python 3 (ipykernel)",
   "language": "python",
   "name": "python3"
  },
  "language_info": {
   "codemirror_mode": {
    "name": "ipython",
    "version": 3
   },
   "file_extension": ".py",
   "mimetype": "text/x-python",
   "name": "python",
   "nbconvert_exporter": "python",
   "pygments_lexer": "ipython3",
   "version": "3.9.7"
  }
 },
 "nbformat": 4,
 "nbformat_minor": 5
}
