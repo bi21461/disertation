{
 "cells": [
  {
   "cell_type": "code",
   "execution_count": 4,
   "id": "315fe128",
   "metadata": {},
   "outputs": [],
   "source": [
    "# Load libraries\n",
    "import numpy as np\n",
    "import pandas as pd\n",
    "import matplotlib.pyplot as plt\n",
    "from pandas import read_csv, set_option\n",
    "from pandas.plotting import scatter_matrix\n",
    "import seaborn as sns\n",
    "from sklearn.preprocessing import StandardScaler"
   ]
  },
  {
   "cell_type": "code",
   "execution_count": 5,
   "id": "b1719401",
   "metadata": {},
   "outputs": [],
   "source": [
    "dataset = read_csv('result1.csv',index_col=0)"
   ]
  },
  {
   "cell_type": "code",
   "execution_count": 4,
   "id": "4e0f30d6",
   "metadata": {},
   "outputs": [
    {
     "data": {
      "text/html": [
       "<div>\n",
       "<style scoped>\n",
       "    .dataframe tbody tr th:only-of-type {\n",
       "        vertical-align: middle;\n",
       "    }\n",
       "\n",
       "    .dataframe tbody tr th {\n",
       "        vertical-align: top;\n",
       "    }\n",
       "\n",
       "    .dataframe thead th {\n",
       "        text-align: right;\n",
       "    }\n",
       "</style>\n",
       "<table border=\"1\" class=\"dataframe\">\n",
       "  <thead>\n",
       "    <tr style=\"text-align: right;\">\n",
       "      <th></th>\n",
       "      <th>Historical Rts2 Trading Microsecond</th>\n",
       "      <th>Historical Rts2 Instrument Identification Code</th>\n",
       "      <th>Instruments New Instrument Full Name</th>\n",
       "      <th>Historical Rts2 Transaction Identification Code</th>\n",
       "      <th>Historical Rts2 Venue of Publication</th>\n",
       "      <th>Mifid Entities Commercial Name</th>\n",
       "      <th>Historical Rts2 Price Notation</th>\n",
       "      <th>Historical Rts2 Price</th>\n",
       "      <th>Historical Rts2 Price Currency</th>\n",
       "      <th>Historical Rts2 Notional Amount</th>\n",
       "      <th>Historical Rts2 Notional Currency</th>\n",
       "      <th>Historical Rts2 Flag List</th>\n",
       "      <th>Historical Rts2 Count Event</th>\n",
       "    </tr>\n",
       "    <tr>\n",
       "      <th>Historical Rts2 Publication Microsecond</th>\n",
       "      <th></th>\n",
       "      <th></th>\n",
       "      <th></th>\n",
       "      <th></th>\n",
       "      <th></th>\n",
       "      <th></th>\n",
       "      <th></th>\n",
       "      <th></th>\n",
       "      <th></th>\n",
       "      <th></th>\n",
       "      <th></th>\n",
       "      <th></th>\n",
       "      <th></th>\n",
       "    </tr>\n",
       "  </thead>\n",
       "  <tbody>\n",
       "    <tr>\n",
       "      <th>2022-02-25 20:26:56.167374</th>\n",
       "      <td>2021-02-26 08:23:39.000000</td>\n",
       "      <td>US298785JL15</td>\n",
       "      <td>European Investment Bank DL Notes 2021 31</td>\n",
       "      <td>2202252026560486796</td>\n",
       "      <td>TRAX</td>\n",
       "      <td>TRAX</td>\n",
       "      <td>PERC</td>\n",
       "      <td>96.404000</td>\n",
       "      <td>USD</td>\n",
       "      <td>5000000.0</td>\n",
       "      <td>USD</td>\n",
       "      <td>ILQD LRGS</td>\n",
       "      <td>1</td>\n",
       "    </tr>\n",
       "    <tr>\n",
       "      <th>2022-02-25 20:26:56.447328</th>\n",
       "      <td>2021-02-26 11:52:21.000000</td>\n",
       "      <td>US298785JL15</td>\n",
       "      <td>European Investment Bank DL Notes 2021 31</td>\n",
       "      <td>2202252026560316252</td>\n",
       "      <td>TRAX</td>\n",
       "      <td>TRAX</td>\n",
       "      <td>PERC</td>\n",
       "      <td>96.211000</td>\n",
       "      <td>USD</td>\n",
       "      <td>5000000.0</td>\n",
       "      <td>USD</td>\n",
       "      <td>ILQD LRGS</td>\n",
       "      <td>1</td>\n",
       "    </tr>\n",
       "    <tr>\n",
       "      <th>2022-03-04 14:08:25.905150</th>\n",
       "      <td>2021-03-02 14:09:57.000000</td>\n",
       "      <td>US298785JL15</td>\n",
       "      <td>European Investment Bank DL Notes 2021 31</td>\n",
       "      <td>2104060727180430006</td>\n",
       "      <td>TRAX</td>\n",
       "      <td>TRAX</td>\n",
       "      <td>PERC</td>\n",
       "      <td>96.948202</td>\n",
       "      <td>NaN</td>\n",
       "      <td>65000000.0</td>\n",
       "      <td>USD</td>\n",
       "      <td>CANC LRGS</td>\n",
       "      <td>1</td>\n",
       "    </tr>\n",
       "    <tr>\n",
       "      <th>2022-02-25 19:56:08.931444</th>\n",
       "      <td>2021-03-09 09:49:24.000000</td>\n",
       "      <td>US298785JL15</td>\n",
       "      <td>European Investment Bank DL Notes 2021 31</td>\n",
       "      <td>2104130849160354610</td>\n",
       "      <td>TRAX</td>\n",
       "      <td>TRAX</td>\n",
       "      <td>PERC</td>\n",
       "      <td>96.235000</td>\n",
       "      <td>NaN</td>\n",
       "      <td>25420000.0</td>\n",
       "      <td>USD</td>\n",
       "      <td>CANC FULJ LRGS</td>\n",
       "      <td>1</td>\n",
       "    </tr>\n",
       "    <tr>\n",
       "      <th>2022-02-25 23:42:47.798946</th>\n",
       "      <td>2021-03-09 09:52:03.000000</td>\n",
       "      <td>US298785JL15</td>\n",
       "      <td>European Investment Bank DL Notes 2021 31</td>\n",
       "      <td>2202252342470411851</td>\n",
       "      <td>TRAX</td>\n",
       "      <td>TRAX</td>\n",
       "      <td>PERC</td>\n",
       "      <td>96.235000</td>\n",
       "      <td>USD</td>\n",
       "      <td>25420000.0</td>\n",
       "      <td>USD</td>\n",
       "      <td>ILQD LRGS</td>\n",
       "      <td>1</td>\n",
       "    </tr>\n",
       "    <tr>\n",
       "      <th>...</th>\n",
       "      <td>...</td>\n",
       "      <td>...</td>\n",
       "      <td>...</td>\n",
       "      <td>...</td>\n",
       "      <td>...</td>\n",
       "      <td>...</td>\n",
       "      <td>...</td>\n",
       "      <td>...</td>\n",
       "      <td>...</td>\n",
       "      <td>...</td>\n",
       "      <td>...</td>\n",
       "      <td>...</td>\n",
       "      <td>...</td>\n",
       "    </tr>\n",
       "    <tr>\n",
       "      <th>2022-07-19 05:12:50.009187</th>\n",
       "      <td>2022-06-13 21:32:50.000000</td>\n",
       "      <td>US298785JL15</td>\n",
       "      <td>European Investment Bank DL Notes 2021 31</td>\n",
       "      <td>2207190612500444739</td>\n",
       "      <td>TRAX</td>\n",
       "      <td>TRAX</td>\n",
       "      <td>PERC</td>\n",
       "      <td>84.350000</td>\n",
       "      <td>USD</td>\n",
       "      <td>15000000.0</td>\n",
       "      <td>USD</td>\n",
       "      <td>FULJ ILQD SIZE</td>\n",
       "      <td>1</td>\n",
       "    </tr>\n",
       "    <tr>\n",
       "      <th>2022-07-19 06:23:32.015568</th>\n",
       "      <td>2022-06-13 21:32:50.000000</td>\n",
       "      <td>US298785JL15</td>\n",
       "      <td>European Investment Bank DL Notes 2021 31</td>\n",
       "      <td>2207190723320312328</td>\n",
       "      <td>TRAX</td>\n",
       "      <td>TRAX</td>\n",
       "      <td>PERC</td>\n",
       "      <td>84.350000</td>\n",
       "      <td>USD</td>\n",
       "      <td>15000000.0</td>\n",
       "      <td>USD</td>\n",
       "      <td>FULJ ILQD SIZE</td>\n",
       "      <td>1</td>\n",
       "    </tr>\n",
       "    <tr>\n",
       "      <th>2022-07-19 05:39:00.013441</th>\n",
       "      <td>2022-06-13 21:32:50.000000</td>\n",
       "      <td>US298785JL15</td>\n",
       "      <td>European Investment Bank DL Notes 2021 31</td>\n",
       "      <td>2207190639000107772</td>\n",
       "      <td>TRAX</td>\n",
       "      <td>TRAX</td>\n",
       "      <td>PERC</td>\n",
       "      <td>84.365000</td>\n",
       "      <td>USD</td>\n",
       "      <td>10000000.0</td>\n",
       "      <td>USD</td>\n",
       "      <td>FULJ ILQD SIZE</td>\n",
       "      <td>1</td>\n",
       "    </tr>\n",
       "    <tr>\n",
       "      <th>2022-07-19 05:27:09.006898</th>\n",
       "      <td>2022-06-13 21:32:50.000000</td>\n",
       "      <td>US298785JL15</td>\n",
       "      <td>European Investment Bank DL Notes 2021 31</td>\n",
       "      <td>2207190627090448945</td>\n",
       "      <td>TRAX</td>\n",
       "      <td>TRAX</td>\n",
       "      <td>PERC</td>\n",
       "      <td>84.365000</td>\n",
       "      <td>USD</td>\n",
       "      <td>10000000.0</td>\n",
       "      <td>USD</td>\n",
       "      <td>FULJ ILQD SIZE</td>\n",
       "      <td>1</td>\n",
       "    </tr>\n",
       "    <tr>\n",
       "      <th>2022-07-19 06:06:04.007910</th>\n",
       "      <td>2022-06-13 21:32:51.000000</td>\n",
       "      <td>US298785JL15</td>\n",
       "      <td>European Investment Bank DL Notes 2021 31</td>\n",
       "      <td>2207190706040453797</td>\n",
       "      <td>TRAX</td>\n",
       "      <td>TRAX</td>\n",
       "      <td>PERC</td>\n",
       "      <td>84.365000</td>\n",
       "      <td>USD</td>\n",
       "      <td>10000000.0</td>\n",
       "      <td>USD</td>\n",
       "      <td>FULJ ILQD SIZE</td>\n",
       "      <td>1</td>\n",
       "    </tr>\n",
       "  </tbody>\n",
       "</table>\n",
       "<p>500 rows × 13 columns</p>\n",
       "</div>"
      ],
      "text/plain": [
       "                                        Historical Rts2 Trading Microsecond  \\\n",
       "Historical Rts2 Publication Microsecond                                       \n",
       "2022-02-25 20:26:56.167374                       2021-02-26 08:23:39.000000   \n",
       "2022-02-25 20:26:56.447328                       2021-02-26 11:52:21.000000   \n",
       "2022-03-04 14:08:25.905150                       2021-03-02 14:09:57.000000   \n",
       "2022-02-25 19:56:08.931444                       2021-03-09 09:49:24.000000   \n",
       "2022-02-25 23:42:47.798946                       2021-03-09 09:52:03.000000   \n",
       "...                                                                     ...   \n",
       "2022-07-19 05:12:50.009187                       2022-06-13 21:32:50.000000   \n",
       "2022-07-19 06:23:32.015568                       2022-06-13 21:32:50.000000   \n",
       "2022-07-19 05:39:00.013441                       2022-06-13 21:32:50.000000   \n",
       "2022-07-19 05:27:09.006898                       2022-06-13 21:32:50.000000   \n",
       "2022-07-19 06:06:04.007910                       2022-06-13 21:32:51.000000   \n",
       "\n",
       "                                        Historical Rts2 Instrument Identification Code  \\\n",
       "Historical Rts2 Publication Microsecond                                                  \n",
       "2022-02-25 20:26:56.167374                                                US298785JL15   \n",
       "2022-02-25 20:26:56.447328                                                US298785JL15   \n",
       "2022-03-04 14:08:25.905150                                                US298785JL15   \n",
       "2022-02-25 19:56:08.931444                                                US298785JL15   \n",
       "2022-02-25 23:42:47.798946                                                US298785JL15   \n",
       "...                                                                                ...   \n",
       "2022-07-19 05:12:50.009187                                                US298785JL15   \n",
       "2022-07-19 06:23:32.015568                                                US298785JL15   \n",
       "2022-07-19 05:39:00.013441                                                US298785JL15   \n",
       "2022-07-19 05:27:09.006898                                                US298785JL15   \n",
       "2022-07-19 06:06:04.007910                                                US298785JL15   \n",
       "\n",
       "                                               Instruments New Instrument Full Name  \\\n",
       "Historical Rts2 Publication Microsecond                                               \n",
       "2022-02-25 20:26:56.167374               European Investment Bank DL Notes 2021 31    \n",
       "2022-02-25 20:26:56.447328               European Investment Bank DL Notes 2021 31    \n",
       "2022-03-04 14:08:25.905150               European Investment Bank DL Notes 2021 31    \n",
       "2022-02-25 19:56:08.931444               European Investment Bank DL Notes 2021 31    \n",
       "2022-02-25 23:42:47.798946               European Investment Bank DL Notes 2021 31    \n",
       "...                                                                             ...   \n",
       "2022-07-19 05:12:50.009187               European Investment Bank DL Notes 2021 31    \n",
       "2022-07-19 06:23:32.015568               European Investment Bank DL Notes 2021 31    \n",
       "2022-07-19 05:39:00.013441               European Investment Bank DL Notes 2021 31    \n",
       "2022-07-19 05:27:09.006898               European Investment Bank DL Notes 2021 31    \n",
       "2022-07-19 06:06:04.007910               European Investment Bank DL Notes 2021 31    \n",
       "\n",
       "                                        Historical Rts2 Transaction Identification Code  \\\n",
       "Historical Rts2 Publication Microsecond                                                   \n",
       "2022-02-25 20:26:56.167374                                          2202252026560486796   \n",
       "2022-02-25 20:26:56.447328                                          2202252026560316252   \n",
       "2022-03-04 14:08:25.905150                                          2104060727180430006   \n",
       "2022-02-25 19:56:08.931444                                          2104130849160354610   \n",
       "2022-02-25 23:42:47.798946                                          2202252342470411851   \n",
       "...                                                                                 ...   \n",
       "2022-07-19 05:12:50.009187                                          2207190612500444739   \n",
       "2022-07-19 06:23:32.015568                                          2207190723320312328   \n",
       "2022-07-19 05:39:00.013441                                          2207190639000107772   \n",
       "2022-07-19 05:27:09.006898                                          2207190627090448945   \n",
       "2022-07-19 06:06:04.007910                                          2207190706040453797   \n",
       "\n",
       "                                        Historical Rts2 Venue of Publication  \\\n",
       "Historical Rts2 Publication Microsecond                                        \n",
       "2022-02-25 20:26:56.167374                                              TRAX   \n",
       "2022-02-25 20:26:56.447328                                              TRAX   \n",
       "2022-03-04 14:08:25.905150                                              TRAX   \n",
       "2022-02-25 19:56:08.931444                                              TRAX   \n",
       "2022-02-25 23:42:47.798946                                              TRAX   \n",
       "...                                                                      ...   \n",
       "2022-07-19 05:12:50.009187                                              TRAX   \n",
       "2022-07-19 06:23:32.015568                                              TRAX   \n",
       "2022-07-19 05:39:00.013441                                              TRAX   \n",
       "2022-07-19 05:27:09.006898                                              TRAX   \n",
       "2022-07-19 06:06:04.007910                                              TRAX   \n",
       "\n",
       "                                        Mifid Entities Commercial Name  \\\n",
       "Historical Rts2 Publication Microsecond                                  \n",
       "2022-02-25 20:26:56.167374                                        TRAX   \n",
       "2022-02-25 20:26:56.447328                                        TRAX   \n",
       "2022-03-04 14:08:25.905150                                        TRAX   \n",
       "2022-02-25 19:56:08.931444                                        TRAX   \n",
       "2022-02-25 23:42:47.798946                                        TRAX   \n",
       "...                                                                ...   \n",
       "2022-07-19 05:12:50.009187                                        TRAX   \n",
       "2022-07-19 06:23:32.015568                                        TRAX   \n",
       "2022-07-19 05:39:00.013441                                        TRAX   \n",
       "2022-07-19 05:27:09.006898                                        TRAX   \n",
       "2022-07-19 06:06:04.007910                                        TRAX   \n",
       "\n",
       "                                        Historical Rts2 Price Notation  \\\n",
       "Historical Rts2 Publication Microsecond                                  \n",
       "2022-02-25 20:26:56.167374                                        PERC   \n",
       "2022-02-25 20:26:56.447328                                        PERC   \n",
       "2022-03-04 14:08:25.905150                                        PERC   \n",
       "2022-02-25 19:56:08.931444                                        PERC   \n",
       "2022-02-25 23:42:47.798946                                        PERC   \n",
       "...                                                                ...   \n",
       "2022-07-19 05:12:50.009187                                        PERC   \n",
       "2022-07-19 06:23:32.015568                                        PERC   \n",
       "2022-07-19 05:39:00.013441                                        PERC   \n",
       "2022-07-19 05:27:09.006898                                        PERC   \n",
       "2022-07-19 06:06:04.007910                                        PERC   \n",
       "\n",
       "                                         Historical Rts2 Price  \\\n",
       "Historical Rts2 Publication Microsecond                          \n",
       "2022-02-25 20:26:56.167374                           96.404000   \n",
       "2022-02-25 20:26:56.447328                           96.211000   \n",
       "2022-03-04 14:08:25.905150                           96.948202   \n",
       "2022-02-25 19:56:08.931444                           96.235000   \n",
       "2022-02-25 23:42:47.798946                           96.235000   \n",
       "...                                                        ...   \n",
       "2022-07-19 05:12:50.009187                           84.350000   \n",
       "2022-07-19 06:23:32.015568                           84.350000   \n",
       "2022-07-19 05:39:00.013441                           84.365000   \n",
       "2022-07-19 05:27:09.006898                           84.365000   \n",
       "2022-07-19 06:06:04.007910                           84.365000   \n",
       "\n",
       "                                        Historical Rts2 Price Currency  \\\n",
       "Historical Rts2 Publication Microsecond                                  \n",
       "2022-02-25 20:26:56.167374                                         USD   \n",
       "2022-02-25 20:26:56.447328                                         USD   \n",
       "2022-03-04 14:08:25.905150                                         NaN   \n",
       "2022-02-25 19:56:08.931444                                         NaN   \n",
       "2022-02-25 23:42:47.798946                                         USD   \n",
       "...                                                                ...   \n",
       "2022-07-19 05:12:50.009187                                         USD   \n",
       "2022-07-19 06:23:32.015568                                         USD   \n",
       "2022-07-19 05:39:00.013441                                         USD   \n",
       "2022-07-19 05:27:09.006898                                         USD   \n",
       "2022-07-19 06:06:04.007910                                         USD   \n",
       "\n",
       "                                         Historical Rts2 Notional Amount  \\\n",
       "Historical Rts2 Publication Microsecond                                    \n",
       "2022-02-25 20:26:56.167374                                     5000000.0   \n",
       "2022-02-25 20:26:56.447328                                     5000000.0   \n",
       "2022-03-04 14:08:25.905150                                    65000000.0   \n",
       "2022-02-25 19:56:08.931444                                    25420000.0   \n",
       "2022-02-25 23:42:47.798946                                    25420000.0   \n",
       "...                                                                  ...   \n",
       "2022-07-19 05:12:50.009187                                    15000000.0   \n",
       "2022-07-19 06:23:32.015568                                    15000000.0   \n",
       "2022-07-19 05:39:00.013441                                    10000000.0   \n",
       "2022-07-19 05:27:09.006898                                    10000000.0   \n",
       "2022-07-19 06:06:04.007910                                    10000000.0   \n",
       "\n",
       "                                        Historical Rts2 Notional Currency  \\\n",
       "Historical Rts2 Publication Microsecond                                     \n",
       "2022-02-25 20:26:56.167374                                            USD   \n",
       "2022-02-25 20:26:56.447328                                            USD   \n",
       "2022-03-04 14:08:25.905150                                            USD   \n",
       "2022-02-25 19:56:08.931444                                            USD   \n",
       "2022-02-25 23:42:47.798946                                            USD   \n",
       "...                                                                   ...   \n",
       "2022-07-19 05:12:50.009187                                            USD   \n",
       "2022-07-19 06:23:32.015568                                            USD   \n",
       "2022-07-19 05:39:00.013441                                            USD   \n",
       "2022-07-19 05:27:09.006898                                            USD   \n",
       "2022-07-19 06:06:04.007910                                            USD   \n",
       "\n",
       "                                        Historical Rts2 Flag List  \\\n",
       "Historical Rts2 Publication Microsecond                             \n",
       "2022-02-25 20:26:56.167374                              ILQD LRGS   \n",
       "2022-02-25 20:26:56.447328                              ILQD LRGS   \n",
       "2022-03-04 14:08:25.905150                              CANC LRGS   \n",
       "2022-02-25 19:56:08.931444                         CANC FULJ LRGS   \n",
       "2022-02-25 23:42:47.798946                              ILQD LRGS   \n",
       "...                                                           ...   \n",
       "2022-07-19 05:12:50.009187                         FULJ ILQD SIZE   \n",
       "2022-07-19 06:23:32.015568                         FULJ ILQD SIZE   \n",
       "2022-07-19 05:39:00.013441                         FULJ ILQD SIZE   \n",
       "2022-07-19 05:27:09.006898                         FULJ ILQD SIZE   \n",
       "2022-07-19 06:06:04.007910                         FULJ ILQD SIZE   \n",
       "\n",
       "                                         Historical Rts2 Count Event  \n",
       "Historical Rts2 Publication Microsecond                               \n",
       "2022-02-25 20:26:56.167374                                         1  \n",
       "2022-02-25 20:26:56.447328                                         1  \n",
       "2022-03-04 14:08:25.905150                                         1  \n",
       "2022-02-25 19:56:08.931444                                         1  \n",
       "2022-02-25 23:42:47.798946                                         1  \n",
       "...                                                              ...  \n",
       "2022-07-19 05:12:50.009187                                         1  \n",
       "2022-07-19 06:23:32.015568                                         1  \n",
       "2022-07-19 05:39:00.013441                                         1  \n",
       "2022-07-19 05:27:09.006898                                         1  \n",
       "2022-07-19 06:06:04.007910                                         1  \n",
       "\n",
       "[500 rows x 13 columns]"
      ]
     },
     "execution_count": 4,
     "metadata": {},
     "output_type": "execute_result"
    }
   ],
   "source": [
    "dataset"
   ]
  },
  {
   "cell_type": "code",
   "execution_count": 6,
   "id": "b4b09a56",
   "metadata": {},
   "outputs": [],
   "source": [
    "df = pd.DataFrame(dataset,columns=['Historical Rts2 Price','Historical Rts2 Notional Amount'])"
   ]
  },
  {
   "cell_type": "code",
   "execution_count": 7,
   "id": "49f28696",
   "metadata": {},
   "outputs": [
    {
     "data": {
      "text/html": [
       "<div>\n",
       "<style scoped>\n",
       "    .dataframe tbody tr th:only-of-type {\n",
       "        vertical-align: middle;\n",
       "    }\n",
       "\n",
       "    .dataframe tbody tr th {\n",
       "        vertical-align: top;\n",
       "    }\n",
       "\n",
       "    .dataframe thead th {\n",
       "        text-align: right;\n",
       "    }\n",
       "</style>\n",
       "<table border=\"1\" class=\"dataframe\">\n",
       "  <thead>\n",
       "    <tr style=\"text-align: right;\">\n",
       "      <th></th>\n",
       "      <th>Historical Rts2 Price</th>\n",
       "      <th>Historical Rts2 Notional Amount</th>\n",
       "    </tr>\n",
       "    <tr>\n",
       "      <th>Historical Rts2 Publication Microsecond</th>\n",
       "      <th></th>\n",
       "      <th></th>\n",
       "    </tr>\n",
       "  </thead>\n",
       "  <tbody>\n",
       "    <tr>\n",
       "      <th>2022-02-25 20:26:56.167374</th>\n",
       "      <td>96.404000</td>\n",
       "      <td>5000000.0</td>\n",
       "    </tr>\n",
       "    <tr>\n",
       "      <th>2022-02-25 20:26:56.447328</th>\n",
       "      <td>96.211000</td>\n",
       "      <td>5000000.0</td>\n",
       "    </tr>\n",
       "    <tr>\n",
       "      <th>2022-03-04 14:08:25.905150</th>\n",
       "      <td>96.948202</td>\n",
       "      <td>65000000.0</td>\n",
       "    </tr>\n",
       "    <tr>\n",
       "      <th>2022-02-25 19:56:08.931444</th>\n",
       "      <td>96.235000</td>\n",
       "      <td>25420000.0</td>\n",
       "    </tr>\n",
       "    <tr>\n",
       "      <th>2022-02-25 23:42:47.798946</th>\n",
       "      <td>96.235000</td>\n",
       "      <td>25420000.0</td>\n",
       "    </tr>\n",
       "    <tr>\n",
       "      <th>...</th>\n",
       "      <td>...</td>\n",
       "      <td>...</td>\n",
       "    </tr>\n",
       "    <tr>\n",
       "      <th>2022-07-19 05:12:50.009187</th>\n",
       "      <td>84.350000</td>\n",
       "      <td>15000000.0</td>\n",
       "    </tr>\n",
       "    <tr>\n",
       "      <th>2022-07-19 06:23:32.015568</th>\n",
       "      <td>84.350000</td>\n",
       "      <td>15000000.0</td>\n",
       "    </tr>\n",
       "    <tr>\n",
       "      <th>2022-07-19 05:39:00.013441</th>\n",
       "      <td>84.365000</td>\n",
       "      <td>10000000.0</td>\n",
       "    </tr>\n",
       "    <tr>\n",
       "      <th>2022-07-19 05:27:09.006898</th>\n",
       "      <td>84.365000</td>\n",
       "      <td>10000000.0</td>\n",
       "    </tr>\n",
       "    <tr>\n",
       "      <th>2022-07-19 06:06:04.007910</th>\n",
       "      <td>84.365000</td>\n",
       "      <td>10000000.0</td>\n",
       "    </tr>\n",
       "  </tbody>\n",
       "</table>\n",
       "<p>500 rows × 2 columns</p>\n",
       "</div>"
      ],
      "text/plain": [
       "                                         Historical Rts2 Price  \\\n",
       "Historical Rts2 Publication Microsecond                          \n",
       "2022-02-25 20:26:56.167374                           96.404000   \n",
       "2022-02-25 20:26:56.447328                           96.211000   \n",
       "2022-03-04 14:08:25.905150                           96.948202   \n",
       "2022-02-25 19:56:08.931444                           96.235000   \n",
       "2022-02-25 23:42:47.798946                           96.235000   \n",
       "...                                                        ...   \n",
       "2022-07-19 05:12:50.009187                           84.350000   \n",
       "2022-07-19 06:23:32.015568                           84.350000   \n",
       "2022-07-19 05:39:00.013441                           84.365000   \n",
       "2022-07-19 05:27:09.006898                           84.365000   \n",
       "2022-07-19 06:06:04.007910                           84.365000   \n",
       "\n",
       "                                         Historical Rts2 Notional Amount  \n",
       "Historical Rts2 Publication Microsecond                                   \n",
       "2022-02-25 20:26:56.167374                                     5000000.0  \n",
       "2022-02-25 20:26:56.447328                                     5000000.0  \n",
       "2022-03-04 14:08:25.905150                                    65000000.0  \n",
       "2022-02-25 19:56:08.931444                                    25420000.0  \n",
       "2022-02-25 23:42:47.798946                                    25420000.0  \n",
       "...                                                                  ...  \n",
       "2022-07-19 05:12:50.009187                                    15000000.0  \n",
       "2022-07-19 06:23:32.015568                                    15000000.0  \n",
       "2022-07-19 05:39:00.013441                                    10000000.0  \n",
       "2022-07-19 05:27:09.006898                                    10000000.0  \n",
       "2022-07-19 06:06:04.007910                                    10000000.0  \n",
       "\n",
       "[500 rows x 2 columns]"
      ]
     },
     "execution_count": 7,
     "metadata": {},
     "output_type": "execute_result"
    }
   ],
   "source": [
    "df"
   ]
  },
  {
   "cell_type": "code",
   "execution_count": 11,
   "id": "0763a060",
   "metadata": {},
   "outputs": [
    {
     "data": {
      "text/plain": [
       "Text(0.5, 1.0, 'Price vs Notional Amount')"
      ]
     },
     "execution_count": 11,
     "metadata": {},
     "output_type": "execute_result"
    },
    {
     "data": {
      "image/png": "[encoded data removed]",
      "text/plain": [
       "<Figure size 432x288 with 1 Axes>"
      ]
     },
     "metadata": {
      "needs_background": "light"
     },
     "output_type": "display_data"
    }
   ],
   "source": [
    "import matplotlib.pyplot as plt\n",
    "df.plot(kind='scatter',x='Historical Rts2 Price',y='Historical Rts2 Notional Amount',alpha=1)\n",
    "plt.xlabel('Price')\n",
    "plt.ylabel('Notional Amount')\n",
    "plt.title('Price vs Notional Amount')"
   ]
  },
  {
   "cell_type": "code",
   "execution_count": 9,
   "id": "7762a82c",
   "metadata": {},
   "outputs": [],
   "source": [
    "df1 = pd.DataFrame(dataset,columns=['Historical Rts2 Price'])\n",
    "df2 = pd.DataFrame(dataset,columns=['Historical Rts2 Notional Amount'])"
   ]
  },
  {
   "cell_type": "code",
   "execution_count": 25,
   "id": "4a804e11",
   "metadata": {},
   "outputs": [
    {
     "data": {
      "text/plain": [
       "<AxesSubplot:>"
      ]
     },
     "execution_count": 25,
     "metadata": {},
     "output_type": "execute_result"
    },
    {
     "data": {
      "image/png": "[encoded data removed]",
      "text/plain": [
       "<Figure size 432x288 with 1 Axes>"
      ]
     },
     "metadata": {
      "needs_background": "light"
     },
     "output_type": "display_data"
    }
   ],
   "source": [
    "import seaborn as sns\n",
    "import matplotlib.pyplot as plt\n",
    "\n",
    "sns.boxplot(data=df1)"
   ]
  },
  {
   "cell_type": "code",
   "execution_count": 10,
   "id": "0627a151",
   "metadata": {},
   "outputs": [
    {
     "data": {
      "text/plain": [
       "<AxesSubplot:>"
      ]
     },
     "execution_count": 10,
     "metadata": {},
     "output_type": "execute_result"
    },
    {
     "data": {
      "image/png": "[encoded data removed]",
      "text/plain": [
       "<Figure size 432x288 with 1 Axes>"
      ]
     },
     "metadata": {
      "needs_background": "light"
     },
     "output_type": "display_data"
    }
   ],
   "source": [
    "sns.boxplot(data=df2,orient=\"h\")"
   ]
  },
  {
   "cell_type": "code",
   "execution_count": 29,
   "id": "1a12c9fa",
   "metadata": {},
   "outputs": [
    {
     "data": {
      "text/plain": [
       "{'whiskers': [<matplotlib.lines.Line2D at 0x1bfae48df40>,\n",
       "  <matplotlib.lines.Line2D at 0x1bfae49b310>],\n",
       " 'caps': [<matplotlib.lines.Line2D at 0x1bfae49b6a0>,\n",
       "  <matplotlib.lines.Line2D at 0x1bfae49b970>],\n",
       " 'boxes': [<matplotlib.lines.Line2D at 0x1bfae48dbb0>],\n",
       " 'medians': [<matplotlib.lines.Line2D at 0x1bfae49bc70>],\n",
       " 'fliers': [<matplotlib.lines.Line2D at 0x1bfae4aa040>],\n",
       " 'means': []}"
      ]
     },
     "execution_count": 29,
     "metadata": {},
     "output_type": "execute_result"
    },
    {
     "data": {
      "image/png": "[encoded data removed]",
      "text/plain": [
       "<Figure size 432x288 with 1 Axes>"
      ]
     },
     "metadata": {
      "needs_background": "light"
     },
     "output_type": "display_data"
    }
   ],
   "source": [
    "plt.boxplot(df1)"
   ]
  },
  {
   "cell_type": "code",
   "execution_count": 48,
   "id": "1742ba55",
   "metadata": {},
   "outputs": [
    {
     "data": {
      "text/plain": [
       "{'whiskers': [<matplotlib.lines.Line2D at 0x1bfae81e910>,\n",
       "  <matplotlib.lines.Line2D at 0x1bfae81eca0>],\n",
       " 'caps': [<matplotlib.lines.Line2D at 0x1bfae82f070>,\n",
       "  <matplotlib.lines.Line2D at 0x1bfae82f400>],\n",
       " 'boxes': [<matplotlib.lines.Line2D at 0x1bfae81e580>],\n",
       " 'medians': [<matplotlib.lines.Line2D at 0x1bfae82f790>],\n",
       " 'fliers': [<matplotlib.lines.Line2D at 0x1bfae82fb20>],\n",
       " 'means': []}"
      ]
     },
     "execution_count": 48,
     "metadata": {},
     "output_type": "execute_result"
    },
    {
     "data": {
      "image/png": "[encoded data removed]",
      "text/plain": [
       "<Figure size 432x288 with 1 Axes>"
      ]
     },
     "metadata": {
      "needs_background": "light"
     },
     "output_type": "display_data"
    }
   ],
   "source": [
    "plt.boxplot(df2)"
   ]
  },
  {
   "cell_type": "code",
   "execution_count": 44,
   "id": "1600c2ad",
   "metadata": {},
   "outputs": [
    {
     "data": {
      "image/png": "[encoded data removed]",
      "text/plain": [
       "<Figure size 432x288 with 1 Axes>"
      ]
     },
     "metadata": {
      "needs_background": "light"
     },
     "output_type": "display_data"
    }
   ],
   "source": [
    "Price=df['Historical Rts2 Price']\n",
    "fig, ax = plt.subplots()\n",
    "ax.boxplot(Price, vert=0, notch=True, patch_artist=True, meanline=True, showmeans=True)\n",
    "plt.yticks([1], [\"Price\"])\n",
    "plt.title('Boxplot of Price')\n",
    "plt.show()"
   ]
  },
  {
   "cell_type": "code",
   "execution_count": 53,
   "id": "1338d02d",
   "metadata": {},
   "outputs": [
    {
     "data": {
      "image/png": "[encoded data removed]",
      "text/plain": [
       "<Figure size 432x288 with 1 Axes>"
      ]
     },
     "metadata": {
      "needs_background": "light"
     },
     "output_type": "display_data"
    }
   ],
   "source": [
    "Notional_Amount=df['Historical Rts2 Notional Amount']\n",
    "fig, ax = plt.subplots()\n",
    "ax.boxplot(df2, vert=0, notch=True, patch_artist=True, meanline=True, showmeans=True)\n",
    "plt.yticks([1], [\"Notional_Amount\"])\n",
    "plt.title('Boxplot of Notional Amount')\n",
    "plt.show()"
   ]
  },
  {
   "cell_type": "code",
   "execution_count": 49,
   "id": "9b0e6e37",
   "metadata": {},
   "outputs": [
    {
     "data": {
      "text/html": [
       "<div>\n",
       "<style scoped>\n",
       "    .dataframe tbody tr th:only-of-type {\n",
       "        vertical-align: middle;\n",
       "    }\n",
       "\n",
       "    .dataframe tbody tr th {\n",
       "        vertical-align: top;\n",
       "    }\n",
       "\n",
       "    .dataframe thead th {\n",
       "        text-align: right;\n",
       "    }\n",
       "</style>\n",
       "<table border=\"1\" class=\"dataframe\">\n",
       "  <thead>\n",
       "    <tr style=\"text-align: right;\">\n",
       "      <th></th>\n",
       "      <th>Historical Rts2 Notional Amount</th>\n",
       "    </tr>\n",
       "    <tr>\n",
       "      <th>Historical Rts2 Publication Microsecond</th>\n",
       "      <th></th>\n",
       "    </tr>\n",
       "  </thead>\n",
       "  <tbody>\n",
       "    <tr>\n",
       "      <th>2022-02-25 20:26:56.167374</th>\n",
       "      <td>5000000.0</td>\n",
       "    </tr>\n",
       "    <tr>\n",
       "      <th>2022-02-25 20:26:56.447328</th>\n",
       "      <td>5000000.0</td>\n",
       "    </tr>\n",
       "    <tr>\n",
       "      <th>2022-03-04 14:08:25.905150</th>\n",
       "      <td>65000000.0</td>\n",
       "    </tr>\n",
       "    <tr>\n",
       "      <th>2022-02-25 19:56:08.931444</th>\n",
       "      <td>25420000.0</td>\n",
       "    </tr>\n",
       "    <tr>\n",
       "      <th>2022-02-25 23:42:47.798946</th>\n",
       "      <td>25420000.0</td>\n",
       "    </tr>\n",
       "    <tr>\n",
       "      <th>...</th>\n",
       "      <td>...</td>\n",
       "    </tr>\n",
       "    <tr>\n",
       "      <th>2022-07-19 05:12:50.009187</th>\n",
       "      <td>15000000.0</td>\n",
       "    </tr>\n",
       "    <tr>\n",
       "      <th>2022-07-19 06:23:32.015568</th>\n",
       "      <td>15000000.0</td>\n",
       "    </tr>\n",
       "    <tr>\n",
       "      <th>2022-07-19 05:39:00.013441</th>\n",
       "      <td>10000000.0</td>\n",
       "    </tr>\n",
       "    <tr>\n",
       "      <th>2022-07-19 05:27:09.006898</th>\n",
       "      <td>10000000.0</td>\n",
       "    </tr>\n",
       "    <tr>\n",
       "      <th>2022-07-19 06:06:04.007910</th>\n",
       "      <td>10000000.0</td>\n",
       "    </tr>\n",
       "  </tbody>\n",
       "</table>\n",
       "<p>500 rows × 1 columns</p>\n",
       "</div>"
      ],
      "text/plain": [
       "                                         Historical Rts2 Notional Amount\n",
       "Historical Rts2 Publication Microsecond                                 \n",
       "2022-02-25 20:26:56.167374                                     5000000.0\n",
       "2022-02-25 20:26:56.447328                                     5000000.0\n",
       "2022-03-04 14:08:25.905150                                    65000000.0\n",
       "2022-02-25 19:56:08.931444                                    25420000.0\n",
       "2022-02-25 23:42:47.798946                                    25420000.0\n",
       "...                                                                  ...\n",
       "2022-07-19 05:12:50.009187                                    15000000.0\n",
       "2022-07-19 06:23:32.015568                                    15000000.0\n",
       "2022-07-19 05:39:00.013441                                    10000000.0\n",
       "2022-07-19 05:27:09.006898                                    10000000.0\n",
       "2022-07-19 06:06:04.007910                                    10000000.0\n",
       "\n",
       "[500 rows x 1 columns]"
      ]
     },
     "execution_count": 49,
     "metadata": {},
     "output_type": "execute_result"
    }
   ],
   "source": [
    "df2"
   ]
  },
  {
   "cell_type": "code",
   "execution_count": 9,
   "id": "e54bc3d1",
   "metadata": {},
   "outputs": [],
   "source": [
    "\n",
    "import pandas as pd\n",
    "import numpy as np\n",
    "from scipy.stats import chi2\n",
    "from matplotlib import patches\n",
    "import matplotlib.pyplot as plt"
   ]
  },
  {
   "cell_type": "code",
   "execution_count": 10,
   "id": "f4c5d187",
   "metadata": {},
   "outputs": [],
   "source": [
    "df = df.dropna()\n",
    "df = df.to_numpy()"
   ]
  },
  {
   "cell_type": "code",
   "execution_count": 38,
   "id": "18d3b055",
   "metadata": {},
   "outputs": [
    {
     "data": {
      "text/plain": [
       "array([[9.6404000e+01, 5.0000000e+06],\n",
       "       [9.6211000e+01, 5.0000000e+06],\n",
       "       [9.6948202e+01, 6.5000000e+07],\n",
       "       [9.6235000e+01, 2.5420000e+07],\n",
       "       [9.6235000e+01, 2.5420000e+07],\n",
       "       [9.6235000e+01, 2.5420000e+07],\n",
       "       [9.6235000e+01, 2.5420000e+07],\n",
       "       [9.6073000e+01, 1.0000000e+04],\n",
       "       [9.5210000e+01, 8.0000000e+06],\n",
       "       [9.5130000e+01, 8.0000000e+06],\n",
       "       [9.5130000e+01, 8.0000000e+06],\n",
       "       [9.5277630e+01, 2.5000000e+07],\n",
       "       [9.5277630e+01, 2.5000000e+07],\n",
       "       [9.5083000e+01, 5.0000000e+06],\n",
       "       [9.5400000e+01, 3.0000000e+07],\n",
       "       [9.5027000e+01, 6.5000000e+04],\n",
       "       [9.5400000e+01, 3.0000000e+07],\n",
       "       [9.5400000e+01, 3.0000000e+07],\n",
       "       [9.5400000e+01, 3.0000000e+07],\n",
       "       [9.5381000e+01, 4.0000000e+06],\n",
       "       [9.5024000e+01, 5.0000000e+04],\n",
       "       [9.4648000e+01, 9.9000000e+05],\n",
       "       [9.4735000e+01, 3.8500000e+05],\n",
       "       [9.4580000e+01, 1.0000000e+06],\n",
       "       [9.4589547e+01, 5.0000000e+05],\n",
       "       [9.4787000e+01, 1.0000000e+05],\n",
       "       [9.4783000e+01, 9.6100000e+05],\n",
       "       [9.4731000e+01, 5.0000000e+04],\n",
       "       [9.5457000e+01, 1.0000000e+06],\n",
       "       [9.5487000e+01, 2.5000000e+04],\n",
       "       [9.5588900e+01, 2.5000000e+04],\n",
       "       [9.5588900e+01, 2.5000000e+04],\n",
       "       [9.5588900e+01, 2.5000000e+04],\n",
       "       [9.5610000e+01, 5.0000000e+04],\n",
       "       [9.5783000e+01, 5.0000000e+04],\n",
       "       [9.5731000e+01, 7.5000000e+04],\n",
       "       [9.5628700e+01, 7.5000000e+04],\n",
       "       [9.5654000e+01, 1.0000000e+05],\n",
       "       [9.5343700e+01, 1.2100000e+05],\n",
       "       [9.5343700e+01, 1.2100000e+05],\n",
       "       [9.5343700e+01, 1.2100000e+05],\n",
       "       [9.5184900e+01, 1.4000000e+06],\n",
       "       [9.5184900e+01, 1.4000000e+06],\n",
       "       [9.5261000e+01, 2.5000000e+04],\n",
       "       [9.4716000e+01, 4.0000000e+05],\n",
       "       [9.4730000e+01, 1.0000000e+05],\n",
       "       [9.4716000e+01, 7.5000000e+04],\n",
       "       [9.4877000e+01, 2.5000000e+04],\n",
       "       [9.4844000e+01, 1.0000000e+05],\n",
       "       [9.5129500e+01, 7.2000000e+04],\n",
       "       [9.5129500e+01, 7.2000000e+04],\n",
       "       [9.5129500e+01, 7.2000000e+04],\n",
       "       [9.5133600e+01, 4.0000000e+04],\n",
       "       [9.5133600e+01, 4.0000000e+04],\n",
       "       [9.5133600e+01, 4.0000000e+04],\n",
       "       [9.5219000e+01, 1.4800000e+05],\n",
       "       [9.5162000e+01, 1.0000000e+03],\n",
       "       [9.5363000e+01, 5.0000000e+04],\n",
       "       [9.5397000e+01, 1.5000000e+05],\n",
       "       [9.5728000e+01, 5.0000000e+04],\n",
       "       [9.5688000e+01, 5.0000000e+04],\n",
       "       [9.5688000e+01, 5.0000000e+04],\n",
       "       [9.5688000e+01, 5.0000000e+04],\n",
       "       [9.5410000e+01, 2.5000000e+04],\n",
       "       [9.5386000e+01, 5.0000000e+04],\n",
       "       [9.5385000e+01, 7.5000000e+04],\n",
       "       [9.5111000e+01, 7.5000000e+04],\n",
       "       [9.5206000e+01, 1.0500000e+05],\n",
       "       [9.5430000e+01, 5.0000000e+04],\n",
       "       [9.5470000e+01, 5.0000000e+04],\n",
       "       [9.5049000e+01, 3.0000000e+05],\n",
       "       [9.5270000e+01, 7.5000000e+04],\n",
       "       [9.5310000e+01, 7.5000000e+04],\n",
       "       [9.5101000e+01, 7.5000000e+04],\n",
       "       [9.4858000e+01, 1.2500000e+05],\n",
       "       [9.4879000e+01, 5.0000000e+04],\n",
       "       [9.4873000e+01, 2.5000000e+04],\n",
       "       [9.4937000e+01, 7.5000000e+04],\n",
       "       [9.4900000e+01, 2.6000000e+07],\n",
       "       [9.4314100e+01, 2.6000000e+05],\n",
       "       [9.4082000e+01, 1.0000000e+05],\n",
       "       [9.4178000e+01, 2.5000000e+05],\n",
       "       [9.4137000e+01, 1.2500000e+05],\n",
       "       [9.4098100e+01, 3.7500000e+05],\n",
       "       [9.4098100e+01, 3.7500000e+05],\n",
       "       [9.4098100e+01, 3.7500000e+05],\n",
       "       [9.4100000e+01, 2.2500000e+05],\n",
       "       [9.4102300e+01, 7.5000000e+04],\n",
       "       [9.3833000e+01, 6.0000000e+04],\n",
       "       [9.3978000e+01, 5.0000000e+04],\n",
       "       [9.3919000e+01, 8.7500000e+05],\n",
       "       [9.4019000e+01, 2.5000000e+04],\n",
       "       [9.4013200e+01, 7.5000000e+04],\n",
       "       [9.4013200e+01, 7.5000000e+04],\n",
       "       [9.4013200e+01, 7.5000000e+04],\n",
       "       [9.3941000e+01, 5.0000000e+04],\n",
       "       [9.3710400e+01, 1.5000000e+05],\n",
       "       [9.4008000e+01, 2.5000000e+05],\n",
       "       [9.3971000e+01, 7.5000000e+04],\n",
       "       [9.3989000e+01, 5.0000000e+04],\n",
       "       [9.3959000e+01, 2.5000000e+04],\n",
       "       [9.3951600e+01, 1.5000000e+05],\n",
       "       [9.4001000e+01, 1.7500000e+05],\n",
       "       [9.3968000e+01, 2.5000000e+04],\n",
       "       [9.4020200e+01, 7.5000000e+04],\n",
       "       [9.3471200e+01, 1.5000000e+05],\n",
       "       [9.3220000e+01, 5.0000000e+06],\n",
       "       [9.3408000e+01, 2.5000000e+04],\n",
       "       [9.3347000e+01, 1.0000000e+05],\n",
       "       [9.3388000e+01, 7.5000000e+04],\n",
       "       [9.3463000e+01, 7.5000000e+04],\n",
       "       [9.3465000e+01, 5.0000000e+04],\n",
       "       [9.3449000e+01, 2.5000000e+04],\n",
       "       [9.3300100e+01, 4.2500000e+05],\n",
       "       [9.3300100e+01, 4.2500000e+05],\n",
       "       [9.3770000e+01, 5.0000000e+06],\n",
       "       [9.3917500e+01, 5.0000000e+03],\n",
       "       [9.3917500e+01, 5.0000000e+03],\n",
       "       [9.3981200e+01, 2.5000000e+04],\n",
       "       [9.4052000e+01, 2.5000000e+04],\n",
       "       [9.4310000e+01, 1.0000000e+05],\n",
       "       [9.4357000e+01, 1.2500000e+05],\n",
       "       [9.3874000e+01, 5.0000000e+04],\n",
       "       [9.3734800e+01, 2.7500000e+05],\n",
       "       [9.3783000e+01, 5.0000000e+04],\n",
       "       [9.3462000e+01, 2.1500000e+05],\n",
       "       [9.3234000e+01, 4.2000000e+04],\n",
       "       [9.2987000e+01, 3.5000000e+05],\n",
       "       [9.3046000e+01, 2.5000000e+05],\n",
       "       [9.2992000e+01, 1.9470000e+06],\n",
       "       [9.2992000e+01, 8.7420000e+06],\n",
       "       [9.3595000e+01, 2.6000000e+04],\n",
       "       [9.3701800e+01, 3.7600000e+05],\n",
       "       [9.4030800e+01, 7.0000000e+04],\n",
       "       [9.4030800e+01, 7.0000000e+04],\n",
       "       [9.4970000e+01, 7.5000000e+04],\n",
       "       [9.5015000e+01, 7.5000000e+04],\n",
       "       [9.4170000e+01, 1.5000000e+05],\n",
       "       [9.4252000e+01, 5.0000000e+04],\n",
       "       [9.4197000e+01, 6.0000000e+04],\n",
       "       [9.4184000e+01, 1.5000000e+05],\n",
       "       [9.4123100e+01, 6.0000000e+04],\n",
       "       [9.4006000e+01, 2.5000000e+04],\n",
       "       [9.3805000e+01, 2.5000000e+05],\n",
       "       [9.4080000e+01, 2.5000000e+04],\n",
       "       [9.4125000e+01, 2.5000000e+04],\n",
       "       [9.3732000e+01, 2.5000000e+05],\n",
       "       [9.3530600e+01, 2.0000000e+05],\n",
       "       [9.3626400e+01, 2.0000000e+05],\n",
       "       [9.3562000e+01, 1.1000000e+06],\n",
       "       [9.3612700e+01, 2.5000000e+05],\n",
       "       [9.4550000e+01, 1.0000000e+04],\n",
       "       [9.3732200e+01, 7.2000000e+04],\n",
       "       [9.3732200e+01, 7.2000000e+04],\n",
       "       [9.3732200e+01, 7.2000000e+04],\n",
       "       [9.3778000e+01, 3.0000000e+03],\n",
       "       [9.4002000e+01, 5.0000000e+04],\n",
       "       [9.3859000e+01, 2.0000000e+06],\n",
       "       [9.4138500e+01, 2.0000000e+04],\n",
       "       [9.4285000e+01, 4.0000000e+04],\n",
       "       [9.5068000e+01, 7.5000000e+04],\n",
       "       [9.5337000e+01, 1.2500000e+05],\n",
       "       [9.5408000e+01, 1.2500000e+05],\n",
       "       [9.5350000e+01, 2.5000000e+04],\n",
       "       [9.5245900e+01, 2.0000000e+05],\n",
       "       [9.5329400e+01, 9.0000000e+05],\n",
       "       [9.5329400e+01, 9.0000000e+05],\n",
       "       [9.5270000e+01, 2.5000000e+04],\n",
       "       [9.5315000e+01, 2.5000000e+04],\n",
       "       [9.4900000e+01, 4.0000000e+06],\n",
       "       [9.5245000e+01, 1.2500000e+05],\n",
       "       [9.4969000e+01, 1.1200000e+05],\n",
       "       [9.4386000e+01, 5.0000000e+04],\n",
       "       [9.4293000e+01, 1.0000000e+04],\n",
       "       [9.4372000e+01, 5.0000000e+03],\n",
       "       [9.4411000e+01, 1.0000000e+06],\n",
       "       [9.4530000e+01, 1.0000000e+06],\n",
       "       [9.4580000e+01, 1.0000000e+06],\n",
       "       [9.4040000e+01, 6.0000000e+03],\n",
       "       [9.4004000e+01, 2.5000000e+05],\n",
       "       [9.3291000e+01, 2.5000000e+05],\n",
       "       [9.3263000e+01, 2.5000000e+07],\n",
       "       [9.3220000e+01, 1.0000000e+06],\n",
       "       [9.3359000e+01, 1.0000000e+06],\n",
       "       [9.2631000e+01, 7.5000000e+04],\n",
       "       [9.2648000e+01, 1.2500000e+05],\n",
       "       [9.2634000e+01, 7.5000000e+04],\n",
       "       [9.2617000e+01, 2.5000000e+04],\n",
       "       [9.2617000e+01, 7.5000000e+04],\n",
       "       [9.2310000e+01, 7.2500000e+05],\n",
       "       [9.2401000e+01, 4.0000000e+06],\n",
       "       [9.2085000e+01, 2.0000000e+04],\n",
       "       [9.1959000e+01, 2.0000000e+04],\n",
       "       [9.2036000e+01, 5.0000000e+04],\n",
       "       [9.2300000e+01, 2.5000000e+04],\n",
       "       [9.1872000e+01, 4.0000000e+06],\n",
       "       [9.2101900e+01, 1.0000000e+05],\n",
       "       [9.1543000e+01, 5.0000000e+04],\n",
       "       [9.1371000e+01, 4.0900000e+05],\n",
       "       [9.0527000e+01, 9.0000000e+06],\n",
       "       [9.0395000e+01, 4.0000000e+04],\n",
       "       [9.0200000e+01, 5.6350000e+06],\n",
       "       [9.0368000e+01, 6.5000000e+04],\n",
       "       [9.0444000e+01, 3.0000000e+05],\n",
       "       [9.0533000e+01, 4.4500000e+05],\n",
       "       [9.0300000e+01, 2.0000000e+06],\n",
       "       [9.0296000e+01, 1.5000000e+05],\n",
       "       [9.0483000e+01, 1.3390000e+07],\n",
       "       [9.0423000e+01, 5.0000000e+03],\n",
       "       [8.9637000e+01, 5.5000000e+05],\n",
       "       [8.9772000e+01, 7.3300000e+05],\n",
       "       [9.0300000e+01, 3.0000000e+06],\n",
       "       [9.0654000e+01, 6.0000000e+04],\n",
       "       [9.0682000e+01, 3.4000000e+04],\n",
       "       [9.0604700e+01, 2.0000000e+05],\n",
       "       [9.0636000e+01, 1.5000000e+06],\n",
       "       [9.0673000e+01, 2.0400000e+05],\n",
       "       [9.0568000e+01, 5.5000000e+06],\n",
       "       [9.0093000e+01, 6.0000000e+04],\n",
       "       [9.0210000e+01, 2.5000000e+04],\n",
       "       [9.0210000e+01, 2.5000000e+04],\n",
       "       [9.0223200e+01, 2.1000000e+05],\n",
       "       [9.0223200e+01, 2.1000000e+05],\n",
       "       [8.9776000e+01, 2.0000000e+05],\n",
       "       [8.8734000e+01, 1.8240000e+06],\n",
       "       [8.8790000e+01, 7.5000000e+04],\n",
       "       [8.8791000e+01, 3.3000000e+04],\n",
       "       [8.8427400e+01, 4.0000000e+03],\n",
       "       [8.8427400e+01, 4.0000000e+03],\n",
       "       [8.9000000e+01, 5.0000000e+04],\n",
       "       [8.9000000e+01, 5.0000000e+04],\n",
       "       [8.8170000e+01, 5.0000000e+05],\n",
       "       [8.8058000e+01, 3.9740000e+06],\n",
       "       [8.7960600e+01, 1.0000000e+05],\n",
       "       [8.7570000e+01, 7.5000000e+04],\n",
       "       [8.7482000e+01, 2.5000000e+04],\n",
       "       [8.6990000e+01, 2.0000000e+04],\n",
       "       [8.7676000e+01, 5.2000000e+05],\n",
       "       [8.7866000e+01, 2.0000000e+05],\n",
       "       [8.7633000e+01, 7.1000000e+04],\n",
       "       [8.8017000e+01, 1.0000000e+05],\n",
       "       [8.8132000e+01, 6.5000000e+05],\n",
       "       [8.8011000e+01, 1.0000000e+06],\n",
       "       [8.7882300e+01, 1.0000000e+05],\n",
       "       [8.6465100e+01, 5.0000000e+04],\n",
       "       [8.6575000e+01, 2.5000000e+04],\n",
       "       [8.6575000e+01, 2.5000000e+04],\n",
       "       [8.6592000e+01, 1.2300000e+05],\n",
       "       [8.6638700e+01, 1.2500000e+05],\n",
       "       [8.6732000e+01, 5.0000000e+04],\n",
       "       [8.6550000e+01, 7.5000000e+04],\n",
       "       [8.6262700e+01, 1.0000000e+05],\n",
       "       [8.6096200e+01, 1.2500000e+05],\n",
       "       [8.6260000e+01, 5.0000000e+04],\n",
       "       [8.6192400e+01, 2.5000000e+04],\n",
       "       [8.6207400e+01, 2.5000000e+04],\n",
       "       [8.6207400e+01, 2.5000000e+04],\n",
       "       [8.6182000e+01, 2.1000000e+04],\n",
       "       [8.7007000e+01, 2.5000000e+04],\n",
       "       [8.6948600e+01, 2.5000000e+05],\n",
       "       [8.6948600e+01, 2.5000000e+05],\n",
       "       [8.7214000e+01, 1.1200000e+05],\n",
       "       [8.7230000e+01, 2.5000000e+07],\n",
       "       [8.7305000e+01, 2.5000000e+04],\n",
       "       [8.7514000e+01, 4.0000000e+05],\n",
       "       [8.7019000e+01, 2.9000000e+06],\n",
       "       [8.6923400e+01, 1.2500000e+05],\n",
       "       [8.7083000e+01, 7.5000000e+04],\n",
       "       [8.6660000e+01, 1.0000000e+05],\n",
       "       [8.7271000e+01, 3.6000000e+04],\n",
       "       [8.7297000e+01, 5.0000000e+04],\n",
       "       [8.7203000e+01, 1.4000000e+04],\n",
       "       [8.6310000e+01, 4.2000000e+04],\n",
       "       [8.6310000e+01, 4.2000000e+04],\n",
       "       [8.6350000e+01, 4.2000000e+04],\n",
       "       [8.6345000e+01, 1.0000000e+06],\n",
       "       [8.6167000e+01, 5.0000000e+04],\n",
       "       [8.6380000e+01, 2.5000000e+04],\n",
       "       [8.5932000e+01, 1.2000000e+05],\n",
       "       [8.6107400e+01, 1.2000000e+05],\n",
       "       [8.6040000e+01, 5.0000000e+07],\n",
       "       [8.6055000e+01, 1.2500000e+05],\n",
       "       [8.6042000e+01, 2.5000000e+07],\n",
       "       [8.6133000e+01, 2.8500000e+06],\n",
       "       [8.6204000e+01, 2.5000000e+05],\n",
       "       [8.5711000e+01, 6.0000000e+03],\n",
       "       [8.5711000e+01, 6.0000000e+03],\n",
       "       [8.6188000e+01, 9.5000000e+04],\n",
       "       [8.6328000e+01, 1.3400000e+05],\n",
       "       [8.5225000e+01, 2.0000000e+04],\n",
       "       [8.6370000e+01, 2.0000000e+07],\n",
       "       [8.6361000e+01, 1.2000000e+06],\n",
       "       [8.6978000e+01, 1.4000000e+05],\n",
       "       [8.7227000e+01, 5.0000000e+04],\n",
       "       [8.7126500e+01, 4.0000000e+04],\n",
       "       [8.6518100e+01, 1.2500000e+05],\n",
       "       [8.6581900e+01, 3.7500000e+05],\n",
       "       [8.6596900e+01, 3.7500000e+05],\n",
       "       [8.6596900e+01, 3.7500000e+05],\n",
       "       [8.6357000e+01, 3.0000000e+08],\n",
       "       [8.6357000e+01, 3.0000000e+08],\n",
       "       [8.6372000e+01, 5.0000000e+07],\n",
       "       [8.6372000e+01, 5.0000000e+07],\n",
       "       [8.6512000e+01, 3.1870000e+06],\n",
       "       [8.6769000e+01, 1.0500000e+05],\n",
       "       [8.6679000e+01, 3.0000000e+05],\n",
       "       [8.6468000e+01, 2.5000000e+07],\n",
       "       [8.6468000e+01, 2.5000000e+07],\n",
       "       [8.6468000e+01, 2.5000000e+07],\n",
       "       [8.6417000e+01, 2.5000000e+07],\n",
       "       [8.6481000e+01, 3.0000000e+05],\n",
       "       [8.6580000e+01, 3.0000000e+05],\n",
       "       [8.6478000e+01, 1.0000000e+08],\n",
       "       [8.6160000e+01, 3.0000000e+07],\n",
       "       [8.6150000e+01, 3.0000000e+07],\n",
       "       [8.5939000e+01, 2.1130000e+06],\n",
       "       [8.5959000e+01, 2.1130000e+06],\n",
       "       [8.6146000e+01, 1.4178000e+07],\n",
       "       [8.6384000e+01, 2.5000000e+06],\n",
       "       [8.7280000e+01, 1.8800000e+05],\n",
       "       [8.7473000e+01, 1.1000000e+06],\n",
       "       [8.7473000e+01, 1.1000000e+06],\n",
       "       [8.7126000e+01, 1.0000000e+06],\n",
       "       [8.6752000e+01, 5.0000000e+06],\n",
       "       [8.6799700e+01, 3.5000000e+04],\n",
       "       [8.6799700e+01, 3.5000000e+04],\n",
       "       [8.6940000e+01, 5.0000000e+05],\n",
       "       [8.6915000e+01, 5.0000000e+06],\n",
       "       [8.6969000e+01, 1.0000000e+07],\n",
       "       [8.6979000e+01, 3.5000000e+07],\n",
       "       [8.7204400e+01, 1.8900000e+07],\n",
       "       [8.7010000e+01, 3.5000000e+07],\n",
       "       [8.7163000e+01, 1.5000000e+05],\n",
       "       [8.7072200e+01, 8.0000000e+03],\n",
       "       [8.7072200e+01, 8.0000000e+03],\n",
       "       [8.7216000e+01, 4.0000000e+05],\n",
       "       [8.7604000e+01, 5.0000000e+04],\n",
       "       [8.7779000e+01, 4.0000000e+04],\n",
       "       [8.7686000e+01, 3.6780000e+06],\n",
       "       [8.7587000e+01, 2.5000000e+07],\n",
       "       [8.7489000e+01, 2.3120000e+06],\n",
       "       [8.7622000e+01, 5.0000000e+06],\n",
       "       [8.7037000e+01, 2.5000000e+04],\n",
       "       [8.7255000e+01, 2.0000000e+07],\n",
       "       [8.7132000e+01, 1.7100000e+05],\n",
       "       [8.7134000e+01, 2.5000000e+04],\n",
       "       [8.6886000e+01, 1.0000000e+06],\n",
       "       [8.6798000e+01, 2.0000000e+05],\n",
       "       [8.6700000e+01, 2.5000000e+07],\n",
       "       [8.6557000e+01, 1.5400000e+05],\n",
       "       [8.6484500e+01, 4.2000000e+04],\n",
       "       [8.6484500e+01, 4.2000000e+04],\n",
       "       [8.6519000e+01, 5.0000000e+04],\n",
       "       [8.6211000e+01, 2.5000000e+04],\n",
       "       [8.6210000e+01, 2.5000000e+07],\n",
       "       [8.5631000e+01, 2.7000000e+05],\n",
       "       [8.5857000e+01, 5.5000000e+06],\n",
       "       [8.5872000e+01, 1.5000000e+07],\n",
       "       [8.5622000e+01, 2.0400000e+05],\n",
       "       [8.5704000e+01, 1.9000000e+04],\n",
       "       [8.5763000e+01, 2.2000000e+04],\n",
       "       [8.4350000e+01, 2.5000000e+07],\n",
       "       [8.4350000e+01, 2.5000000e+07],\n",
       "       [8.4350000e+01, 2.5000000e+07],\n",
       "       [8.4330000e+01, 5.0000000e+07],\n",
       "       [8.4300000e+01, 2.0000000e+07],\n",
       "       [8.4203000e+01, 5.0000000e+06],\n",
       "       [8.4213000e+01, 2.0000000e+07],\n",
       "       [8.4203000e+01, 2.0000000e+06],\n",
       "       [8.4365000e+01, 1.0000000e+07],\n",
       "       [8.4350000e+01, 1.5000000e+07],\n",
       "       [8.4165000e+01, 2.0000000e+06],\n",
       "       [8.4185000e+01, 2.0000000e+06],\n",
       "       [8.3697000e+01, 2.5000000e+04],\n",
       "       [8.4350000e+01, 1.5000000e+07],\n",
       "       [8.4365000e+01, 1.0000000e+07],\n",
       "       [8.4350000e+01, 1.5000000e+07],\n",
       "       [8.4365000e+01, 1.0000000e+07],\n",
       "       [8.4350000e+01, 1.5000000e+07],\n",
       "       [8.4350000e+01, 1.5000000e+07],\n",
       "       [8.4365000e+01, 1.0000000e+07],\n",
       "       [8.4365000e+01, 1.0000000e+07],\n",
       "       [8.4365000e+01, 1.0000000e+07],\n",
       "       [8.4350000e+01, 1.5000000e+07],\n",
       "       [8.4350000e+01, 1.5000000e+07],\n",
       "       [8.4365000e+01, 1.0000000e+07],\n",
       "       [8.4350000e+01, 1.5000000e+07],\n",
       "       [8.4365000e+01, 1.0000000e+07],\n",
       "       [8.4350000e+01, 1.5000000e+07],\n",
       "       [8.4350000e+01, 1.5000000e+07],\n",
       "       [8.4365000e+01, 1.0000000e+07],\n",
       "       [8.4365000e+01, 1.0000000e+07],\n",
       "       [8.4365000e+01, 1.0000000e+07],\n",
       "       [8.4350000e+01, 1.5000000e+07],\n",
       "       [8.4350000e+01, 1.5000000e+07],\n",
       "       [8.4365000e+01, 1.0000000e+07],\n",
       "       [8.4365000e+01, 1.0000000e+07],\n",
       "       [8.4365000e+01, 1.0000000e+07],\n",
       "       [8.4350000e+01, 1.5000000e+07],\n",
       "       [8.4350000e+01, 1.5000000e+07],\n",
       "       [8.4350000e+01, 1.5000000e+07],\n",
       "       [8.4350000e+01, 1.5000000e+07],\n",
       "       [8.4350000e+01, 1.5000000e+07],\n",
       "       [8.4365000e+01, 1.0000000e+07],\n",
       "       [8.4365000e+01, 1.0000000e+07],\n",
       "       [8.4365000e+01, 1.0000000e+07],\n",
       "       [8.4365000e+01, 1.0000000e+07],\n",
       "       [8.4365000e+01, 1.0000000e+07],\n",
       "       [8.4365000e+01, 1.0000000e+07],\n",
       "       [8.4350000e+01, 1.5000000e+07],\n",
       "       [8.4350000e+01, 1.5000000e+07],\n",
       "       [8.4350000e+01, 1.5000000e+07],\n",
       "       [8.4365000e+01, 1.0000000e+07],\n",
       "       [8.4350000e+01, 1.5000000e+07],\n",
       "       [8.4365000e+01, 1.0000000e+07],\n",
       "       [8.4350000e+01, 1.5000000e+07],\n",
       "       [8.4365000e+01, 1.0000000e+07],\n",
       "       [8.4350000e+01, 1.5000000e+07],\n",
       "       [8.4350000e+01, 1.5000000e+07],\n",
       "       [8.4365000e+01, 1.0000000e+07],\n",
       "       [8.4350000e+01, 1.5000000e+07],\n",
       "       [8.4365000e+01, 1.0000000e+07],\n",
       "       [8.4365000e+01, 1.0000000e+07],\n",
       "       [8.4350000e+01, 1.5000000e+07],\n",
       "       [8.4350000e+01, 1.5000000e+07],\n",
       "       [8.4365000e+01, 1.0000000e+07],\n",
       "       [8.4365000e+01, 1.0000000e+07],\n",
       "       [8.4350000e+01, 1.5000000e+07],\n",
       "       [8.4365000e+01, 1.0000000e+07],\n",
       "       [8.4350000e+01, 1.5000000e+07],\n",
       "       [8.4365000e+01, 1.0000000e+07],\n",
       "       [8.4350000e+01, 1.5000000e+07],\n",
       "       [8.4350000e+01, 1.5000000e+07],\n",
       "       [8.4365000e+01, 1.0000000e+07],\n",
       "       [8.4365000e+01, 1.0000000e+07],\n",
       "       [8.4350000e+01, 1.5000000e+07],\n",
       "       [8.4365000e+01, 1.0000000e+07],\n",
       "       [8.4365000e+01, 1.0000000e+07],\n",
       "       [8.4350000e+01, 1.5000000e+07],\n",
       "       [8.4350000e+01, 1.5000000e+07],\n",
       "       [8.4365000e+01, 1.0000000e+07],\n",
       "       [8.4350000e+01, 1.5000000e+07],\n",
       "       [8.4350000e+01, 1.5000000e+07],\n",
       "       [8.4365000e+01, 1.0000000e+07],\n",
       "       [8.4365000e+01, 1.0000000e+07],\n",
       "       [8.4365000e+01, 1.0000000e+07],\n",
       "       [8.4365000e+01, 1.0000000e+07],\n",
       "       [8.4350000e+01, 1.5000000e+07],\n",
       "       [8.4350000e+01, 1.5000000e+07],\n",
       "       [8.4350000e+01, 1.5000000e+07],\n",
       "       [8.4350000e+01, 1.5000000e+07],\n",
       "       [8.4365000e+01, 1.0000000e+07],\n",
       "       [8.4350000e+01, 1.5000000e+07],\n",
       "       [8.4365000e+01, 1.0000000e+07],\n",
       "       [8.4365000e+01, 1.0000000e+07],\n",
       "       [8.4350000e+01, 1.5000000e+07],\n",
       "       [8.4350000e+01, 1.5000000e+07],\n",
       "       [8.4350000e+01, 1.5000000e+07],\n",
       "       [8.4365000e+01, 1.0000000e+07],\n",
       "       [8.4365000e+01, 1.0000000e+07],\n",
       "       [8.4350000e+01, 1.5000000e+07],\n",
       "       [8.4365000e+01, 1.0000000e+07],\n",
       "       [8.4350000e+01, 1.5000000e+07],\n",
       "       [8.4350000e+01, 1.5000000e+07],\n",
       "       [8.4365000e+01, 1.0000000e+07],\n",
       "       [8.4365000e+01, 1.0000000e+07],\n",
       "       [8.4365000e+01, 1.0000000e+07],\n",
       "       [8.4350000e+01, 1.5000000e+07],\n",
       "       [8.4350000e+01, 1.5000000e+07],\n",
       "       [8.4350000e+01, 1.5000000e+07],\n",
       "       [8.4365000e+01, 1.0000000e+07],\n",
       "       [8.4365000e+01, 1.0000000e+07],\n",
       "       [8.4365000e+01, 1.0000000e+07],\n",
       "       [8.4350000e+01, 1.5000000e+07],\n",
       "       [8.4365000e+01, 1.0000000e+07],\n",
       "       [8.4350000e+01, 1.5000000e+07],\n",
       "       [8.4365000e+01, 1.0000000e+07],\n",
       "       [8.4350000e+01, 1.5000000e+07],\n",
       "       [8.4350000e+01, 1.5000000e+07],\n",
       "       [8.4365000e+01, 1.0000000e+07],\n",
       "       [8.4350000e+01, 1.5000000e+07],\n",
       "       [8.4350000e+01, 1.5000000e+07],\n",
       "       [8.4365000e+01, 1.0000000e+07],\n",
       "       [8.4365000e+01, 1.0000000e+07],\n",
       "       [8.4350000e+01, 1.5000000e+07],\n",
       "       [8.4350000e+01, 1.5000000e+07],\n",
       "       [8.4365000e+01, 1.0000000e+07],\n",
       "       [8.4365000e+01, 1.0000000e+07],\n",
       "       [8.4365000e+01, 1.0000000e+07],\n",
       "       [8.4350000e+01, 1.5000000e+07],\n",
       "       [8.4365000e+01, 1.0000000e+07],\n",
       "       [8.4350000e+01, 1.5000000e+07],\n",
       "       [8.4350000e+01, 1.5000000e+07],\n",
       "       [8.4350000e+01, 1.5000000e+07],\n",
       "       [8.4365000e+01, 1.0000000e+07],\n",
       "       [8.4365000e+01, 1.0000000e+07],\n",
       "       [8.4365000e+01, 1.0000000e+07]])"
      ]
     },
     "execution_count": 38,
     "metadata": {},
     "output_type": "execute_result"
    }
   ],
   "source": [
    "df"
   ]
  },
  {
   "cell_type": "code",
   "execution_count": 20,
   "id": "3fabf7ec",
   "metadata": {},
   "outputs": [],
   "source": [
    "# Covariance matrix\n",
    "covariance  = np.cov(df , rowvar=False)\n",
    "\n",
    "# Covariance matrix power of -1\n",
    "covariance_pm1 = np.linalg.matrix_power(covariance, -1)\n",
    "\n",
    "# Center point\n",
    "centerpoint = np.mean(df , axis=0)"
   ]
  },
  {
   "cell_type": "code",
   "execution_count": 21,
   "id": "662f20da",
   "metadata": {},
   "outputs": [
    {
     "name": "stdout",
     "output_type": "stream",
     "text": [
      "--- Index of Outliers ----\n",
      "(array([  2, 299, 300, 312], dtype=int64),)\n",
      "--- Observations found as outlier -----\n",
      "[[9.6948202e+01 6.5000000e+07]\n",
      " [8.6357000e+01 3.0000000e+08]\n",
      " [8.6357000e+01 3.0000000e+08]\n",
      " [8.6478000e+01 1.0000000e+08]]\n"
     ]
    }
   ],
   "source": [
    "# Distances between center point and \n",
    "distances = []\n",
    "for i, val in enumerate(df):\n",
    "      p1 = val\n",
    "      p2 = centerpoint\n",
    "      distance = (p1-p2).T.dot(covariance_pm1).dot(p1-p2)\n",
    "      distances.append(distance)\n",
    "distances = np.array(distances)\n",
    "\n",
    "# Cutoff (threshold) value from Chi-Sqaure Distribution for detecting outliers \n",
    "cutoff = chi2.ppf(0.95, df.shape[1])\n",
    "\n",
    "# Index of outliers\n",
    "outlierIndexes = np.where(distances > cutoff )\n",
    "\n",
    "print('--- Index of Outliers ----')\n",
    "print(outlierIndexes)\n",
    "# array([24, 35, 67, 81])\n",
    "\n",
    "print('--- Observations found as outlier -----')\n",
    "print(df[ distances > cutoff , :])\n",
    "# [[115.  79.], [135.  84.], [122.  89.], [168.  81.]]"
   ]
  },
  {
   "cell_type": "code",
   "execution_count": 23,
   "id": "0d715278",
   "metadata": {},
   "outputs": [
    {
     "data": {
      "image/png": "[encoded data removed]",
      "text/plain": [
       "<Figure size 432x288 with 1 Axes>"
      ]
     },
     "metadata": {
      "needs_background": "light"
     },
     "output_type": "display_data"
    }
   ],
   "source": [
    "## Finding ellipse dimensions \n",
    "pearson = covariance[0, 1]/np.sqrt(covariance[0, 0] * covariance[1, 1])\n",
    "ell_radius_x = np.sqrt(1 + pearson)\n",
    "ell_radius_y = np.sqrt(1 - pearson)\n",
    "lambda_, v = np.linalg.eig(covariance)\n",
    "lambda_ = np.sqrt(lambda_)\n",
    "\n",
    "# Ellipse patch\n",
    "ellipse = patches.Ellipse(xy=(centerpoint[0], centerpoint[1]),\n",
    "                  width=lambda_[0]*np.sqrt(cutoff)*2, height=lambda_[1]*np.sqrt(cutoff)*2,\n",
    "                  angle=np.rad2deg(np.arccos(v[0, 0])), edgecolor='#fab1a0')\n",
    "ellipse.set_facecolor('#0984e3')\n",
    "ellipse.set_alpha(0.5)\n",
    "fig = plt.figure()\n",
    "ax = plt.subplot()\n",
    "ax.add_artist(ellipse)\n",
    "plt.scatter(df[: , 0], df[ : , 1])\n",
    "plt.xlabel('Price')\n",
    "plt.ylabel('Notional Amount')\n",
    "plt.title('Price vs Notional Amount')\n",
    "plt.show()"
   ]
  },
  {
   "cell_type": "code",
   "execution_count": null,
   "id": "fb100e9f",
   "metadata": {},
   "outputs": [],
   "source": []
  },
  {
   "cell_type": "code",
   "execution_count": 11,
   "id": "2cc984ba",
   "metadata": {},
   "outputs": [],
   "source": [
    "ss = StandardScaler()\n",
    "#dff=ss.fit_transform(df)\n",
    "customer = pd.DataFrame(ss.fit_transform(df), columns=[ 'Historical Rts2 Price','Historical Rts2 Notional Amount'])"
   ]
  },
  {
   "cell_type": "code",
   "execution_count": 61,
   "id": "93ce860b",
   "metadata": {},
   "outputs": [
    {
     "data": {
      "text/html": [
       "<div>\n",
       "<style scoped>\n",
       "    .dataframe tbody tr th:only-of-type {\n",
       "        vertical-align: middle;\n",
       "    }\n",
       "\n",
       "    .dataframe tbody tr th {\n",
       "        vertical-align: top;\n",
       "    }\n",
       "\n",
       "    .dataframe thead th {\n",
       "        text-align: right;\n",
       "    }\n",
       "</style>\n",
       "<table border=\"1\" class=\"dataframe\">\n",
       "  <thead>\n",
       "    <tr style=\"text-align: right;\">\n",
       "      <th></th>\n",
       "      <th>Historical Rts2 Price</th>\n",
       "      <th>Historical Rts2 Notional Amount</th>\n",
       "    </tr>\n",
       "  </thead>\n",
       "  <tbody>\n",
       "    <tr>\n",
       "      <th>0</th>\n",
       "      <td>1.596396</td>\n",
       "      <td>-0.110702</td>\n",
       "    </tr>\n",
       "    <tr>\n",
       "      <th>1</th>\n",
       "      <td>1.552638</td>\n",
       "      <td>-0.110702</td>\n",
       "    </tr>\n",
       "    <tr>\n",
       "      <th>2</th>\n",
       "      <td>1.719781</td>\n",
       "      <td>2.729895</td>\n",
       "    </tr>\n",
       "    <tr>\n",
       "      <th>3</th>\n",
       "      <td>1.558079</td>\n",
       "      <td>0.856047</td>\n",
       "    </tr>\n",
       "    <tr>\n",
       "      <th>4</th>\n",
       "      <td>1.558079</td>\n",
       "      <td>0.856047</td>\n",
       "    </tr>\n",
       "    <tr>\n",
       "      <th>...</th>\n",
       "      <td>...</td>\n",
       "      <td>...</td>\n",
       "    </tr>\n",
       "    <tr>\n",
       "      <th>492</th>\n",
       "      <td>-1.136578</td>\n",
       "      <td>0.362730</td>\n",
       "    </tr>\n",
       "    <tr>\n",
       "      <th>493</th>\n",
       "      <td>-1.136578</td>\n",
       "      <td>0.362730</td>\n",
       "    </tr>\n",
       "    <tr>\n",
       "      <th>494</th>\n",
       "      <td>-1.133177</td>\n",
       "      <td>0.126014</td>\n",
       "    </tr>\n",
       "    <tr>\n",
       "      <th>495</th>\n",
       "      <td>-1.133177</td>\n",
       "      <td>0.126014</td>\n",
       "    </tr>\n",
       "    <tr>\n",
       "      <th>496</th>\n",
       "      <td>-1.133177</td>\n",
       "      <td>0.126014</td>\n",
       "    </tr>\n",
       "  </tbody>\n",
       "</table>\n",
       "<p>497 rows × 2 columns</p>\n",
       "</div>"
      ],
      "text/plain": [
       "     Historical Rts2 Price  Historical Rts2 Notional Amount\n",
       "0                 1.596396                        -0.110702\n",
       "1                 1.552638                        -0.110702\n",
       "2                 1.719781                         2.729895\n",
       "3                 1.558079                         0.856047\n",
       "4                 1.558079                         0.856047\n",
       "..                     ...                              ...\n",
       "492              -1.136578                         0.362730\n",
       "493              -1.136578                         0.362730\n",
       "494              -1.133177                         0.126014\n",
       "495              -1.133177                         0.126014\n",
       "496              -1.133177                         0.126014\n",
       "\n",
       "[497 rows x 2 columns]"
      ]
     },
     "execution_count": 61,
     "metadata": {},
     "output_type": "execute_result"
    }
   ],
   "source": [
    "customer"
   ]
  },
  {
   "cell_type": "code",
   "execution_count": 81,
   "id": "a502afd8",
   "metadata": {},
   "outputs": [
    {
     "name": "stderr",
     "output_type": "stream",
     "text": [
      "C:\\Users\\Administrator\\anaconda3\\lib\\site-packages\\sklearn\\cluster\\_kmeans.py:881: UserWarning: KMeans is known to have a memory leak on Windows with MKL, when there are less chunks than available threads. You can avoid it by setting the environment variable OMP_NUM_THREADS=2.\n",
      "  warnings.warn(\n"
     ]
    },
    {
     "data": {
      "text/plain": [
       "Text(0, 0.5, 'Clusters Sum of Squares (WCSS)')"
      ]
     },
     "execution_count": 81,
     "metadata": {},
     "output_type": "execute_result"
    },
    {
     "data": {
      "image/png": "[encoded data removed]",
      "text/plain": [
       "<Figure size 432x288 with 1 Axes>"
      ]
     },
     "metadata": {
      "needs_background": "light"
     },
     "output_type": "display_data"
    }
   ],
   "source": [
    "from sklearn.cluster import KMeans\n",
    "wcss = []\n",
    "\n",
    "for i in range(1, 11):\n",
    "    clustering = KMeans(n_clusters=i, init='k-means++', random_state=42)\n",
    "    clustering.fit(customer)\n",
    "    wcss.append(clustering.inertia_)\n",
    "    \n",
    "ks = [1, 2, 3, 4, 5, 6, 7, 8, 9, 10]\n",
    "p = sns.lineplot(x = ks, y = wcss);\n",
    "p.set_xlabel(\"Number of clusters\")\n",
    "p.set_ylabel(\"Clusters Sum of Squares (WCSS)\")"
   ]
  },
  {
   "cell_type": "code",
   "execution_count": 74,
   "id": "20c3fd24",
   "metadata": {},
   "outputs": [],
   "source": [
    "clustering_sc = KMeans(n_clusters=3, init='k-means++', random_state=42)\n",
    "model=clustering_sc.fit(customer)"
   ]
  },
  {
   "cell_type": "code",
   "execution_count": 73,
   "id": "1ca21395",
   "metadata": {},
   "outputs": [
    {
     "data": {
      "image/png": "[encoded data removed]",
      "text/plain": [
       "<Figure size 1080x360 with 2 Axes>"
      ]
     },
     "metadata": {
      "needs_background": "light"
     },
     "output_type": "display_data"
    }
   ],
   "source": [
    "fig, axes = plt.subplots(nrows=1, ncols=2, figsize=(15,5))\n",
    "sns.scatterplot(ax=axes[0], data=customer, x='Historical Rts2 Price', y='Historical Rts2 Notional Amount').set_title('Without clustering')\n",
    "sns.scatterplot(ax=axes[1], data=customer, x='Historical Rts2 Price', y='Historical Rts2 Notional Amount', hue=clustering_sc.labels_).set_title('Using the elbow method');"
   ]
  },
  {
   "cell_type": "code",
   "execution_count": 67,
   "id": "003d7a91",
   "metadata": {},
   "outputs": [
    {
     "data": {
      "text/html": [
       "<div>\n",
       "<style scoped>\n",
       "    .dataframe tbody tr th:only-of-type {\n",
       "        vertical-align: middle;\n",
       "    }\n",
       "\n",
       "    .dataframe tbody tr th {\n",
       "        vertical-align: top;\n",
       "    }\n",
       "\n",
       "    .dataframe thead th {\n",
       "        text-align: right;\n",
       "    }\n",
       "</style>\n",
       "<table border=\"1\" class=\"dataframe\">\n",
       "  <thead>\n",
       "    <tr style=\"text-align: right;\">\n",
       "      <th></th>\n",
       "      <th>count</th>\n",
       "      <th>mean</th>\n",
       "      <th>std</th>\n",
       "      <th>min</th>\n",
       "      <th>25%</th>\n",
       "      <th>50%</th>\n",
       "      <th>75%</th>\n",
       "      <th>max</th>\n",
       "    </tr>\n",
       "  </thead>\n",
       "  <tbody>\n",
       "    <tr>\n",
       "      <th>Historical Rts2 Price</th>\n",
       "      <td>497.0</td>\n",
       "      <td>1.004339e-15</td>\n",
       "      <td>1.001008</td>\n",
       "      <td>-1.284631</td>\n",
       "      <td>-1.133177</td>\n",
       "      <td>-0.424880</td>\n",
       "      <td>1.055923</td>\n",
       "      <td>1.719781</td>\n",
       "    </tr>\n",
       "    <tr>\n",
       "      <th>Historical Rts2 Notional Amount</th>\n",
       "      <td>497.0</td>\n",
       "      <td>-3.421140e-16</td>\n",
       "      <td>1.001008</td>\n",
       "      <td>-0.347372</td>\n",
       "      <td>-0.344105</td>\n",
       "      <td>-0.329665</td>\n",
       "      <td>0.126014</td>\n",
       "      <td>13.855567</td>\n",
       "    </tr>\n",
       "  </tbody>\n",
       "</table>\n",
       "</div>"
      ],
      "text/plain": [
       "                                 count          mean       std       min  \\\n",
       "Historical Rts2 Price            497.0  1.004339e-15  1.001008 -1.284631   \n",
       "Historical Rts2 Notional Amount  497.0 -3.421140e-16  1.001008 -0.347372   \n",
       "\n",
       "                                      25%       50%       75%        max  \n",
       "Historical Rts2 Price           -1.133177 -0.424880  1.055923   1.719781  \n",
       "Historical Rts2 Notional Amount -0.344105 -0.329665  0.126014  13.855567  "
      ]
     },
     "execution_count": 67,
     "metadata": {},
     "output_type": "execute_result"
    }
   ],
   "source": [
    "customer.describe().T"
   ]
  },
  {
   "cell_type": "code",
   "execution_count": 83,
   "id": "6aa2af1f",
   "metadata": {},
   "outputs": [
    {
     "data": {
      "text/plain": [
       "497"
      ]
     },
     "execution_count": 83,
     "metadata": {},
     "output_type": "execute_result"
    }
   ],
   "source": [
    "len(customer)"
   ]
  },
  {
   "cell_type": "code",
   "execution_count": 12,
   "id": "278bfd78",
   "metadata": {},
   "outputs": [],
   "source": [
    "from sklearn.cluster import KMeans\n",
    "km = KMeans(n_clusters=3)\n",
    "model = km.fit(customer)"
   ]
  },
  {
   "cell_type": "code",
   "execution_count": 23,
   "id": "64913383",
   "metadata": {},
   "outputs": [
    {
     "data": {
      "text/plain": [
       "224   -0.142604\n",
       "225   -0.129907\n",
       "226   -0.129681\n",
       "227   -0.212119\n",
       "228   -0.212119\n",
       "         ...   \n",
       "492   -1.136578\n",
       "493   -1.136578\n",
       "494   -1.133177\n",
       "495   -1.133177\n",
       "496   -1.133177\n",
       "Name: Historical Rts2 Price, Length: 271, dtype: float64"
      ]
     },
     "execution_count": 23,
     "metadata": {},
     "output_type": "execute_result"
    }
   ],
   "source": [
    "customer[model.labels_==i]['Historical Rts2 Price']"
   ]
  },
  {
   "cell_type": "code",
   "execution_count": 25,
   "id": "1bf552e1",
   "metadata": {},
   "outputs": [
    {
     "data": {
      "image/png": "[encoded data removed]",
      "text/plain": [
       "<Figure size 576x432 with 1 Axes>"
      ]
     },
     "metadata": {
      "needs_background": "light"
     },
     "output_type": "display_data"
    }
   ],
   "source": [
    "colors=[\"red\",\"blue\",\"green\"]\n",
    "# figure setting\n",
    "plt.figure(figsize=(8,6))\n",
    "for i in range(np.max(model.labels_)+1):\n",
    "    plt.scatter(customer[model.labels_==i]['Historical Rts2 Price'], customer[model.labels_==i]['Historical Rts2 Notional Amount'], label=i, c = colors[i],  alpha=0.5, s=40)\n",
    "plt.scatter(model.cluster_centers_[:,0], model.cluster_centers_[:,1], label='Centers', c=\"black\", s=100)\n",
    "plt.title(\"K-Means Clustering of Customer Data\",size=20)\n",
    "plt.xlabel(\"Annual income\")\n",
    "plt.ylabel(\"Age\")\n",
    "plt.title('Scatter plot of Annual income vs. Age')\n",
    "plt.legend()\n",
    "plt.show()\n",
    "\n"
   ]
  },
  {
   "cell_type": "code",
   "execution_count": 27,
   "id": "ee8f8c46",
   "metadata": {},
   "outputs": [],
   "source": [
    "def distance_from_center(price, amount, label):\n",
    "    '''\n",
    "    Calculate the Euclidean distance between a data point and the center of its cluster.\n",
    ":param float income: the standardized income of the data point \n",
    "    :param float age: the standardized age of the data point \n",
    "    :param int label: the label of the cluster\n",
    "    :rtype: float\n",
    "    :return: The resulting Euclidean distance  \n",
    "    '''\n",
    "    center_price =  model.cluster_centers_[label,0]\n",
    "    center_amount =  model.cluster_centers_[label,1]\n",
    "    distance = np.sqrt((price - center_price) ** 2 + (amount - center_amount) ** 2)\n",
    "    return np.round(distance, 3)\n",
    "customer['label'] = model.labels_\n",
    "customer['distance'] = distance_from_center(customer['Historical Rts2 Price'], customer['Historical Rts2 Notional Amount'], customer.label)"
   ]
  },
  {
   "cell_type": "code",
   "execution_count": 86,
   "id": "af670737",
   "metadata": {},
   "outputs": [
    {
     "data": {
      "text/html": [
       "<div>\n",
       "<style scoped>\n",
       "    .dataframe tbody tr th:only-of-type {\n",
       "        vertical-align: middle;\n",
       "    }\n",
       "\n",
       "    .dataframe tbody tr th {\n",
       "        vertical-align: top;\n",
       "    }\n",
       "\n",
       "    .dataframe thead th {\n",
       "        text-align: right;\n",
       "    }\n",
       "</style>\n",
       "<table border=\"1\" class=\"dataframe\">\n",
       "  <thead>\n",
       "    <tr style=\"text-align: right;\">\n",
       "      <th></th>\n",
       "      <th>Historical Rts2 Price</th>\n",
       "      <th>Historical Rts2 Notional Amount</th>\n",
       "      <th>label</th>\n",
       "      <th>distance</th>\n",
       "    </tr>\n",
       "  </thead>\n",
       "  <tbody>\n",
       "    <tr>\n",
       "      <th>0</th>\n",
       "      <td>1.596396</td>\n",
       "      <td>-0.110702</td>\n",
       "      <td>1</td>\n",
       "      <td>0.569</td>\n",
       "    </tr>\n",
       "    <tr>\n",
       "      <th>1</th>\n",
       "      <td>1.552638</td>\n",
       "      <td>-0.110702</td>\n",
       "      <td>1</td>\n",
       "      <td>0.527</td>\n",
       "    </tr>\n",
       "    <tr>\n",
       "      <th>2</th>\n",
       "      <td>1.719781</td>\n",
       "      <td>2.729895</td>\n",
       "      <td>1</td>\n",
       "      <td>3.040</td>\n",
       "    </tr>\n",
       "    <tr>\n",
       "      <th>3</th>\n",
       "      <td>1.558079</td>\n",
       "      <td>0.856047</td>\n",
       "      <td>1</td>\n",
       "      <td>1.206</td>\n",
       "    </tr>\n",
       "    <tr>\n",
       "      <th>4</th>\n",
       "      <td>1.558079</td>\n",
       "      <td>0.856047</td>\n",
       "      <td>1</td>\n",
       "      <td>1.206</td>\n",
       "    </tr>\n",
       "    <tr>\n",
       "      <th>...</th>\n",
       "      <td>...</td>\n",
       "      <td>...</td>\n",
       "      <td>...</td>\n",
       "      <td>...</td>\n",
       "    </tr>\n",
       "    <tr>\n",
       "      <th>492</th>\n",
       "      <td>-1.136578</td>\n",
       "      <td>0.362730</td>\n",
       "      <td>0</td>\n",
       "      <td>0.392</td>\n",
       "    </tr>\n",
       "    <tr>\n",
       "      <th>493</th>\n",
       "      <td>-1.136578</td>\n",
       "      <td>0.362730</td>\n",
       "      <td>0</td>\n",
       "      <td>0.392</td>\n",
       "    </tr>\n",
       "    <tr>\n",
       "      <th>494</th>\n",
       "      <td>-1.133177</td>\n",
       "      <td>0.126014</td>\n",
       "      <td>0</td>\n",
       "      <td>0.280</td>\n",
       "    </tr>\n",
       "    <tr>\n",
       "      <th>495</th>\n",
       "      <td>-1.133177</td>\n",
       "      <td>0.126014</td>\n",
       "      <td>0</td>\n",
       "      <td>0.280</td>\n",
       "    </tr>\n",
       "    <tr>\n",
       "      <th>496</th>\n",
       "      <td>-1.133177</td>\n",
       "      <td>0.126014</td>\n",
       "      <td>0</td>\n",
       "      <td>0.280</td>\n",
       "    </tr>\n",
       "  </tbody>\n",
       "</table>\n",
       "<p>497 rows × 4 columns</p>\n",
       "</div>"
      ],
      "text/plain": [
       "     Historical Rts2 Price  Historical Rts2 Notional Amount  label  distance\n",
       "0                 1.596396                        -0.110702      1     0.569\n",
       "1                 1.552638                        -0.110702      1     0.527\n",
       "2                 1.719781                         2.729895      1     3.040\n",
       "3                 1.558079                         0.856047      1     1.206\n",
       "4                 1.558079                         0.856047      1     1.206\n",
       "..                     ...                              ...    ...       ...\n",
       "492              -1.136578                         0.362730      0     0.392\n",
       "493              -1.136578                         0.362730      0     0.392\n",
       "494              -1.133177                         0.126014      0     0.280\n",
       "495              -1.133177                         0.126014      0     0.280\n",
       "496              -1.133177                         0.126014      0     0.280\n",
       "\n",
       "[497 rows x 4 columns]"
      ]
     },
     "execution_count": 86,
     "metadata": {},
     "output_type": "execute_result"
    }
   ],
   "source": [
    "customer"
   ]
  },
  {
   "cell_type": "code",
   "execution_count": 85,
   "id": "dc39b32d",
   "metadata": {},
   "outputs": [
    {
     "data": {
      "text/plain": [
       "pandas.core.frame.DataFrame"
      ]
     },
     "execution_count": 85,
     "metadata": {},
     "output_type": "execute_result"
    }
   ],
   "source": [
    "type(customer)"
   ]
  },
  {
   "cell_type": "code",
   "execution_count": 72,
   "id": "2395489e",
   "metadata": {},
   "outputs": [
    {
     "name": "stdout",
     "output_type": "stream",
     "text": [
      "     Historical Rts2 Price  Historical Rts2 Notional Amount  label  distance\n",
      "2                 1.719781                         2.729895      1     3.040\n",
      "280              -0.753408                         2.019745      0     1.932\n",
      "301              -0.678135                         2.019745      0     1.938\n",
      "302              -0.678135                         2.019745      0     1.938\n",
      "312              -0.654101                         4.386910      0     4.301\n",
      "364              -1.141112                         2.019745      0     1.951\n"
     ]
    }
   ],
   "source": [
    "outliers_idx = list(customer.sort_values('distance', ascending=False).head(6).index)\n",
    "outliers = customer[customer.index.isin(outliers_idx)]\n",
    "print(outliers)"
   ]
  },
  {
   "cell_type": "code",
   "execution_count": 70,
   "id": "15fce57e",
   "metadata": {},
   "outputs": [
    {
     "data": {
      "text/plain": [
       "1.4853999999999998"
      ]
     },
     "execution_count": 70,
     "metadata": {},
     "output_type": "execute_result"
    }
   ],
   "source": [
    "outliers['distance'].mean()"
   ]
  },
  {
   "cell_type": "code",
   "execution_count": 82,
   "id": "bbf397b6",
   "metadata": {},
   "outputs": [
    {
     "data": {
      "text/plain": [
       "6"
      ]
     },
     "execution_count": 82,
     "metadata": {},
     "output_type": "execute_result"
    }
   ],
   "source": [
    "sum(outliers['distance']>1.4853999999999998)"
   ]
  },
  {
   "cell_type": "code",
   "execution_count": 145,
   "id": "ac590bfc",
   "metadata": {},
   "outputs": [
    {
     "ename": "TypeError",
     "evalue": "'(array([  2,   3,   4,   5,   6,  11,  12,  14,  16,  17,  18,  78, 181,\n       209, 210, 223, 280, 301, 302, 312, 313, 314, 329, 331, 364],\n      dtype=int64),)' is an invalid key",
     "output_type": "error",
     "traceback": [
      "\u001b[1;31m---------------------------------------------------------------------------\u001b[0m",
      "\u001b[1;31mTypeError\u001b[0m                                 Traceback (most recent call last)",
      "\u001b[1;32mC:\\Users\\ADMINI~1\\AppData\\Local\\Temp/ipykernel_33672/3819426492.py\u001b[0m in \u001b[0;36m<module>\u001b[1;34m\u001b[0m\n\u001b[0;32m      3\u001b[0m \u001b[0mthresh\u001b[0m \u001b[1;33m=\u001b[0m \u001b[0mquantile\u001b[0m\u001b[1;33m(\u001b[0m\u001b[0mcustomer\u001b[0m\u001b[1;33m[\u001b[0m\u001b[1;34m'distance'\u001b[0m\u001b[1;33m]\u001b[0m\u001b[1;33m,\u001b[0m \u001b[0mpercentile\u001b[0m\u001b[1;33m)\u001b[0m\u001b[1;33m\u001b[0m\u001b[1;33m\u001b[0m\u001b[0m\n\u001b[0;32m      4\u001b[0m \u001b[1;33m\u001b[0m\u001b[0m\n\u001b[1;32m----> 5\u001b[1;33m \u001b[0moutliers_idx\u001b[0m\u001b[1;33m=\u001b[0m \u001b[0mlist\u001b[0m\u001b[1;33m(\u001b[0m\u001b[0mcustomer\u001b[0m\u001b[1;33m[\u001b[0m\u001b[0mnp\u001b[0m\u001b[1;33m.\u001b[0m\u001b[0mwhere\u001b[0m\u001b[1;33m(\u001b[0m\u001b[0mcustomer\u001b[0m\u001b[1;33m[\u001b[0m\u001b[1;34m'distance'\u001b[0m\u001b[1;33m]\u001b[0m \u001b[1;33m>\u001b[0m \u001b[0mthresh\u001b[0m\u001b[1;33m)\u001b[0m\u001b[1;33m]\u001b[0m\u001b[1;33m.\u001b[0m\u001b[0mindex\u001b[0m\u001b[1;33m)\u001b[0m\u001b[1;33m\u001b[0m\u001b[1;33m\u001b[0m\u001b[0m\n\u001b[0m\u001b[0;32m      6\u001b[0m \u001b[0moutliers\u001b[0m \u001b[1;33m=\u001b[0m \u001b[0mcustomer\u001b[0m\u001b[1;33m[\u001b[0m\u001b[0mcustomer\u001b[0m\u001b[1;33m.\u001b[0m\u001b[0mindex\u001b[0m\u001b[1;33m.\u001b[0m\u001b[0misin\u001b[0m\u001b[1;33m(\u001b[0m\u001b[0moutliers_idx\u001b[0m\u001b[1;33m)\u001b[0m\u001b[1;33m]\u001b[0m\u001b[1;33m\u001b[0m\u001b[1;33m\u001b[0m\u001b[0m\n\u001b[0;32m      7\u001b[0m \u001b[0mprint\u001b[0m\u001b[1;33m(\u001b[0m\u001b[0moutliers\u001b[0m\u001b[1;33m)\u001b[0m\u001b[1;33m\u001b[0m\u001b[1;33m\u001b[0m\u001b[0m\n",
      "\u001b[1;32m~\\anaconda3\\lib\\site-packages\\pandas\\core\\frame.py\u001b[0m in \u001b[0;36m__getitem__\u001b[1;34m(self, key)\u001b[0m\n\u001b[0;32m   3456\u001b[0m             \u001b[1;32mif\u001b[0m \u001b[0mself\u001b[0m\u001b[1;33m.\u001b[0m\u001b[0mcolumns\u001b[0m\u001b[1;33m.\u001b[0m\u001b[0mnlevels\u001b[0m \u001b[1;33m>\u001b[0m \u001b[1;36m1\u001b[0m\u001b[1;33m:\u001b[0m\u001b[1;33m\u001b[0m\u001b[1;33m\u001b[0m\u001b[0m\n\u001b[0;32m   3457\u001b[0m                 \u001b[1;32mreturn\u001b[0m \u001b[0mself\u001b[0m\u001b[1;33m.\u001b[0m\u001b[0m_getitem_multilevel\u001b[0m\u001b[1;33m(\u001b[0m\u001b[0mkey\u001b[0m\u001b[1;33m)\u001b[0m\u001b[1;33m\u001b[0m\u001b[1;33m\u001b[0m\u001b[0m\n\u001b[1;32m-> 3458\u001b[1;33m             \u001b[0mindexer\u001b[0m \u001b[1;33m=\u001b[0m \u001b[0mself\u001b[0m\u001b[1;33m.\u001b[0m\u001b[0mcolumns\u001b[0m\u001b[1;33m.\u001b[0m\u001b[0mget_loc\u001b[0m\u001b[1;33m(\u001b[0m\u001b[0mkey\u001b[0m\u001b[1;33m)\u001b[0m\u001b[1;33m\u001b[0m\u001b[1;33m\u001b[0m\u001b[0m\n\u001b[0m\u001b[0;32m   3459\u001b[0m             \u001b[1;32mif\u001b[0m \u001b[0mis_integer\u001b[0m\u001b[1;33m(\u001b[0m\u001b[0mindexer\u001b[0m\u001b[1;33m)\u001b[0m\u001b[1;33m:\u001b[0m\u001b[1;33m\u001b[0m\u001b[1;33m\u001b[0m\u001b[0m\n\u001b[0;32m   3460\u001b[0m                 \u001b[0mindexer\u001b[0m \u001b[1;33m=\u001b[0m \u001b[1;33m[\u001b[0m\u001b[0mindexer\u001b[0m\u001b[1;33m]\u001b[0m\u001b[1;33m\u001b[0m\u001b[1;33m\u001b[0m\u001b[0m\n",
      "\u001b[1;32m~\\anaconda3\\lib\\site-packages\\pandas\\core\\indexes\\base.py\u001b[0m in \u001b[0;36mget_loc\u001b[1;34m(self, key, method, tolerance)\u001b[0m\n\u001b[0;32m   3359\u001b[0m             \u001b[0mcasted_key\u001b[0m \u001b[1;33m=\u001b[0m \u001b[0mself\u001b[0m\u001b[1;33m.\u001b[0m\u001b[0m_maybe_cast_indexer\u001b[0m\u001b[1;33m(\u001b[0m\u001b[0mkey\u001b[0m\u001b[1;33m)\u001b[0m\u001b[1;33m\u001b[0m\u001b[1;33m\u001b[0m\u001b[0m\n\u001b[0;32m   3360\u001b[0m             \u001b[1;32mtry\u001b[0m\u001b[1;33m:\u001b[0m\u001b[1;33m\u001b[0m\u001b[1;33m\u001b[0m\u001b[0m\n\u001b[1;32m-> 3361\u001b[1;33m                 \u001b[1;32mreturn\u001b[0m \u001b[0mself\u001b[0m\u001b[1;33m.\u001b[0m\u001b[0m_engine\u001b[0m\u001b[1;33m.\u001b[0m\u001b[0mget_loc\u001b[0m\u001b[1;33m(\u001b[0m\u001b[0mcasted_key\u001b[0m\u001b[1;33m)\u001b[0m\u001b[1;33m\u001b[0m\u001b[1;33m\u001b[0m\u001b[0m\n\u001b[0m\u001b[0;32m   3362\u001b[0m             \u001b[1;32mexcept\u001b[0m \u001b[0mKeyError\u001b[0m \u001b[1;32mas\u001b[0m \u001b[0merr\u001b[0m\u001b[1;33m:\u001b[0m\u001b[1;33m\u001b[0m\u001b[1;33m\u001b[0m\u001b[0m\n\u001b[0;32m   3363\u001b[0m                 \u001b[1;32mraise\u001b[0m \u001b[0mKeyError\u001b[0m\u001b[1;33m(\u001b[0m\u001b[0mkey\u001b[0m\u001b[1;33m)\u001b[0m \u001b[1;32mfrom\u001b[0m \u001b[0merr\u001b[0m\u001b[1;33m\u001b[0m\u001b[1;33m\u001b[0m\u001b[0m\n",
      "\u001b[1;32m~\\anaconda3\\lib\\site-packages\\pandas\\_libs\\index.pyx\u001b[0m in \u001b[0;36mpandas._libs.index.IndexEngine.get_loc\u001b[1;34m()\u001b[0m\n",
      "\u001b[1;32m~\\anaconda3\\lib\\site-packages\\pandas\\_libs\\index.pyx\u001b[0m in \u001b[0;36mpandas._libs.index.IndexEngine.get_loc\u001b[1;34m()\u001b[0m\n",
      "\u001b[1;31mTypeError\u001b[0m: '(array([  2,   3,   4,   5,   6,  11,  12,  14,  16,  17,  18,  78, 181,\n       209, 210, 223, 280, 301, 302, 312, 313, 314, 329, 331, 364],\n      dtype=int64),)' is an invalid key"
     ]
    }
   ],
   "source": [
    "percentile = 0.95\n",
    "\n",
    "thresh = quantile(customer['distance'], percentile)\n",
    "\n",
    "outliers_idx= list(customer[np.where(customer['distance'] > thresh)].index)\n",
    "outliers = customer[customer.index.isin(outliers_idx)]\n",
    "print(outliers)"
   ]
  },
  {
   "cell_type": "code",
   "execution_count": null,
   "id": "5736ae6c",
   "metadata": {},
   "outputs": [],
   "source": []
  },
  {
   "cell_type": "code",
   "execution_count": 126,
   "id": "a671838a",
   "metadata": {},
   "outputs": [
    {
     "name": "stdout",
     "output_type": "stream",
     "text": [
      "     Historical Rts2 Price  Historical Rts2 Notional Amount  label  distance\n",
      "2                 1.719781                         2.729895      1     3.040\n",
      "3                 1.558079                         0.856047      1     1.206\n",
      "4                 1.558079                         0.856047      1     1.206\n",
      "5                 1.558079                         0.856047      1     1.206\n",
      "6                 1.558079                         0.856047      1     1.206\n",
      "11                1.341017                         0.836163      1     1.111\n",
      "12                1.341017                         0.836163      1     1.111\n",
      "14                1.368761                         1.072880      1     1.346\n",
      "16                1.368761                         1.072880      1     1.346\n",
      "17                1.368761                         1.072880      1     1.346\n",
      "18                1.368761                         1.072880      1     1.346\n",
      "78                1.255398                         0.883507      1     1.137\n",
      "181               0.884245                         0.836163      1     1.080\n",
      "199               0.263918                         0.078671      1     0.837\n",
      "200               0.233990                        -0.345525      1     0.814\n",
      "201               0.189778                        -0.080639      1     0.864\n",
      "202               0.227869                        -0.344342      1     0.820\n",
      "203               0.245100                        -0.333216      1     0.802\n",
      "205               0.212451                        -0.252732      1     0.828\n",
      "206               0.211544                        -0.340317      1     0.836\n",
      "207               0.253942                         0.286508      1     0.943\n",
      "208               0.240339                        -0.347182      1     0.808\n",
      "209               0.062131                        -0.321380      1     0.982\n",
      "210               0.092739                        -0.312716      1     0.951\n",
      "211               0.212451                        -0.205389      1     0.829\n",
      "218               0.165519                        -0.344578      1     0.882\n",
      "219               0.192046                        -0.346235      1     0.856\n",
      "220               0.192046                        -0.346235      1     0.856\n",
      "221               0.195038                        -0.337477      1     0.852\n",
      "222               0.195038                        -0.337477      1     0.852\n",
      "223               0.093646                        -0.337950      1     0.953\n",
      "224              -0.142604                        -0.261065      0     0.794\n",
      "225              -0.129907                        -0.343868      0     0.845\n",
      "226              -0.129681                        -0.345857      0     0.846\n",
      "229              -0.082295                        -0.345052      0     0.887\n",
      "230              -0.082295                        -0.345052      0     0.887\n",
      "262              -0.483602                         0.836163      0     0.833\n",
      "280              -0.753408                         2.019745      0     1.932\n",
      "301              -0.678135                         2.019745      0     1.938\n",
      "302              -0.678135                         2.019745      0     1.938\n",
      "312              -0.654101                         4.386910      0     4.301\n",
      "313              -0.726201                         1.072880      0     0.991\n",
      "314              -0.728468                         1.072880      0     0.991\n",
      "329              -0.540511                         1.309596      0     1.259\n",
      "331              -0.533482                         1.309596      0     1.261\n",
      "339              -0.402661                         0.836163      0     0.872\n",
      "361              -1.136578                         0.836163      0     0.797\n",
      "362              -1.136578                         0.836163      0     0.797\n",
      "363              -1.136578                         0.836163      0     0.797\n",
      "364              -1.141112                         2.019745      0     1.951\n"
     ]
    }
   ],
   "source": [
    "outliers_idx = list(customer.sort_values('distance', ascending=False).head(sum(outliers['distance']>outliers['distance'].mean())).index)\n",
    "outliers = customer[customer.index.isin(outliers_idx)]\n",
    "print(outliers)"
   ]
  },
  {
   "cell_type": "code",
   "execution_count": 127,
   "id": "6b4ab30a",
   "metadata": {},
   "outputs": [
    {
     "data": {
      "text/plain": [
       "1.1633799999999999"
      ]
     },
     "execution_count": 127,
     "metadata": {},
     "output_type": "execute_result"
    }
   ],
   "source": [
    "outliers['distance'].mean()"
   ]
  },
  {
   "cell_type": "code",
   "execution_count": 129,
   "id": "efa65f30",
   "metadata": {},
   "outputs": [
    {
     "data": {
      "text/plain": [
       "16"
      ]
     },
     "execution_count": 129,
     "metadata": {},
     "output_type": "execute_result"
    }
   ],
   "source": [
    "sum(outliers['distance']>1.1633799999999999)"
   ]
  },
  {
   "cell_type": "code",
   "execution_count": null,
   "id": "2ac321a5",
   "metadata": {},
   "outputs": [],
   "source": []
  },
  {
   "cell_type": "code",
   "execution_count": 73,
   "id": "e80d6f6a",
   "metadata": {},
   "outputs": [
    {
     "data": {
      "image/png": "[encoded data removed]",
      "text/plain": [
       "<Figure size 576x432 with 1 Axes>"
      ]
     },
     "metadata": {
      "needs_background": "light"
     },
     "output_type": "display_data"
    }
   ],
   "source": [
    "# figure setting\n",
    "plt.figure(figsize=(8,6))\n",
    "for i in range(np.max(model.labels_)+1):\n",
    "    plt.scatter(customer[model.labels_==i]['Historical Rts2 Price'], customer[model.labels_==i]['Historical Rts2 Notional Amount'], label=i, c=colors[i], alpha=0.5, s=40)\n",
    "plt.scatter(outliers['Historical Rts2 Price'], outliers['Historical Rts2 Notional Amount'], c='aqua', s=100)\n",
    "plt.scatter(model.cluster_centers_[:,0], model.cluster_centers_[:,1], label='Centers', c=\"black\", s=100)\n",
    "plt.title(\"K-Means Clustering of Customer Data\",size=20)\n",
    "plt.xlabel(\"Annual income\")\n",
    "plt.ylabel(\"Age\")\n",
    "plt.title('Scatter plot of Annual income vs. Age')\n",
    "plt.legend()\n",
    "plt.show()"
   ]
  },
  {
   "cell_type": "code",
   "execution_count": null,
   "id": "9dbf9ec6",
   "metadata": {},
   "outputs": [],
   "source": []
  },
  {
   "cell_type": "code",
   "execution_count": 74,
   "id": "c5a6c76b",
   "metadata": {},
   "outputs": [],
   "source": [
    "import pandas as pd\n",
    "import numpy as np\n",
    "import scipy.stats as stats"
   ]
  },
  {
   "cell_type": "code",
   "execution_count": 75,
   "id": "46403a85",
   "metadata": {},
   "outputs": [
    {
     "data": {
      "text/html": [
       "<div>\n",
       "<style scoped>\n",
       "    .dataframe tbody tr th:only-of-type {\n",
       "        vertical-align: middle;\n",
       "    }\n",
       "\n",
       "    .dataframe tbody tr th {\n",
       "        vertical-align: top;\n",
       "    }\n",
       "\n",
       "    .dataframe thead th {\n",
       "        text-align: right;\n",
       "    }\n",
       "</style>\n",
       "<table border=\"1\" class=\"dataframe\">\n",
       "  <thead>\n",
       "    <tr style=\"text-align: right;\">\n",
       "      <th></th>\n",
       "      <th>Historical Rts2 Price</th>\n",
       "      <th>Historical Rts2 Notional Amount</th>\n",
       "      <th>label</th>\n",
       "      <th>distance</th>\n",
       "    </tr>\n",
       "  </thead>\n",
       "  <tbody>\n",
       "    <tr>\n",
       "      <th>0</th>\n",
       "      <td>1.596396</td>\n",
       "      <td>-0.110702</td>\n",
       "      <td>1.069010</td>\n",
       "      <td>0.387821</td>\n",
       "    </tr>\n",
       "    <tr>\n",
       "      <th>1</th>\n",
       "      <td>1.552638</td>\n",
       "      <td>-0.110702</td>\n",
       "      <td>1.069010</td>\n",
       "      <td>0.267697</td>\n",
       "    </tr>\n",
       "    <tr>\n",
       "      <th>2</th>\n",
       "      <td>1.719781</td>\n",
       "      <td>2.729895</td>\n",
       "      <td>1.069010</td>\n",
       "      <td>7.455089</td>\n",
       "    </tr>\n",
       "    <tr>\n",
       "      <th>3</th>\n",
       "      <td>1.558079</td>\n",
       "      <td>0.856047</td>\n",
       "      <td>1.069010</td>\n",
       "      <td>2.209694</td>\n",
       "    </tr>\n",
       "    <tr>\n",
       "      <th>4</th>\n",
       "      <td>1.558079</td>\n",
       "      <td>0.856047</td>\n",
       "      <td>1.069010</td>\n",
       "      <td>2.209694</td>\n",
       "    </tr>\n",
       "    <tr>\n",
       "      <th>...</th>\n",
       "      <td>...</td>\n",
       "      <td>...</td>\n",
       "      <td>...</td>\n",
       "      <td>...</td>\n",
       "    </tr>\n",
       "    <tr>\n",
       "      <th>492</th>\n",
       "      <td>-1.136578</td>\n",
       "      <td>0.362730</td>\n",
       "      <td>-0.906076</td>\n",
       "      <td>-0.118414</td>\n",
       "    </tr>\n",
       "    <tr>\n",
       "      <th>493</th>\n",
       "      <td>-1.136578</td>\n",
       "      <td>0.362730</td>\n",
       "      <td>-0.906076</td>\n",
       "      <td>-0.118414</td>\n",
       "    </tr>\n",
       "    <tr>\n",
       "      <th>494</th>\n",
       "      <td>-1.133177</td>\n",
       "      <td>0.126014</td>\n",
       "      <td>-0.906076</td>\n",
       "      <td>-0.438744</td>\n",
       "    </tr>\n",
       "    <tr>\n",
       "      <th>495</th>\n",
       "      <td>-1.133177</td>\n",
       "      <td>0.126014</td>\n",
       "      <td>-0.906076</td>\n",
       "      <td>-0.438744</td>\n",
       "    </tr>\n",
       "    <tr>\n",
       "      <th>496</th>\n",
       "      <td>-1.133177</td>\n",
       "      <td>0.126014</td>\n",
       "      <td>-0.906076</td>\n",
       "      <td>-0.438744</td>\n",
       "    </tr>\n",
       "  </tbody>\n",
       "</table>\n",
       "<p>497 rows × 4 columns</p>\n",
       "</div>"
      ],
      "text/plain": [
       "     Historical Rts2 Price  Historical Rts2 Notional Amount     label  \\\n",
       "0                 1.596396                        -0.110702  1.069010   \n",
       "1                 1.552638                        -0.110702  1.069010   \n",
       "2                 1.719781                         2.729895  1.069010   \n",
       "3                 1.558079                         0.856047  1.069010   \n",
       "4                 1.558079                         0.856047  1.069010   \n",
       "..                     ...                              ...       ...   \n",
       "492              -1.136578                         0.362730 -0.906076   \n",
       "493              -1.136578                         0.362730 -0.906076   \n",
       "494              -1.133177                         0.126014 -0.906076   \n",
       "495              -1.133177                         0.126014 -0.906076   \n",
       "496              -1.133177                         0.126014 -0.906076   \n",
       "\n",
       "     distance  \n",
       "0    0.387821  \n",
       "1    0.267697  \n",
       "2    7.455089  \n",
       "3    2.209694  \n",
       "4    2.209694  \n",
       "..        ...  \n",
       "492 -0.118414  \n",
       "493 -0.118414  \n",
       "494 -0.438744  \n",
       "495 -0.438744  \n",
       "496 -0.438744  \n",
       "\n",
       "[497 rows x 4 columns]"
      ]
     },
     "execution_count": 75,
     "metadata": {},
     "output_type": "execute_result"
    }
   ],
   "source": [
    "customer.apply(stats.zscore)"
   ]
  },
  {
   "cell_type": "code",
   "execution_count": null,
   "id": "4d5cce7a",
   "metadata": {},
   "outputs": [],
   "source": []
  },
  {
   "cell_type": "markdown",
   "id": "5fff3a71",
   "metadata": {},
   "source": [
    "#### LOF"
   ]
  },
  {
   "cell_type": "code",
   "execution_count": 87,
   "id": "6ab057ec",
   "metadata": {},
   "outputs": [],
   "source": [
    "from sklearn.neighbors import LocalOutlierFactor\n",
    "from sklearn.datasets import make_blobs\n",
    "from numpy import quantile, where, random\n",
    "import matplotlib.pyplot as plt"
   ]
  },
  {
   "cell_type": "code",
   "execution_count": 143,
   "id": "dfbfdad7",
   "metadata": {},
   "outputs": [
    {
     "name": "stdout",
     "output_type": "stream",
     "text": [
      "-1.4366280000245016e+16\n",
      "(array([290, 330, 343, 365, 367], dtype=int64),)\n",
      "5\n"
     ]
    },
    {
     "data": {
      "image/png": "[encoded data removed]",
      "text/plain": [
       "<Figure size 432x288 with 1 Axes>"
      ]
     },
     "metadata": {
      "needs_background": "light"
     },
     "output_type": "display_data"
    },
    {
     "name": "stdout",
     "output_type": "stream",
     "text": [
      "(array([290, 330, 343, 365, 367], dtype=int64),)\n",
      "5\n"
     ]
    }
   ],
   "source": [
    "for i in [0.01,0.05]:\n",
    "    model = LocalOutlierFactor(n_neighbors=20, contamination=i)\n",
    "    model.fit_predict(df)\n",
    "    lof = model.negative_outlier_factor_ \n",
    "    thresh = quantile(lof, .01)\n",
    "    print(thresh)\n",
    "    index = where(lof<=thresh)\n",
    "    print(index)\n",
    "    print(len(index[0]))\n",
    "    values = df[index]\n",
    "    plt.scatter(df[:,0], df[:,1],label=\"Normal\")\n",
    "    plt.scatter(values[:,0], values[:,1], color='r', label=\"Outliers\")\n",
    "    plt.legend(loc=\"upper right\") \n",
    "    plt.show()\n",
    "\n",
    "    y_pred = model.fit_predict(df)\n",
    "    n_errors = (y_pred != 1).sum() \n",
    "    lofs_index = np.where(y_pred!=1) \n",
    "    print(lofs_index)\n",
    "    print(n_errors)"
   ]
  },
  {
   "cell_type": "code",
   "execution_count": 147,
   "id": "f564d87e",
   "metadata": {},
   "outputs": [
    {
     "name": "stdout",
     "output_type": "stream",
     "text": [
      "-1.4366280000245016e+16\n",
      "(array([290, 330, 343, 365, 367], dtype=int64),)\n",
      "5\n"
     ]
    },
    {
     "data": {
      "image/png": "[encoded data removed]",
      "text/plain": [
       "<Figure size 432x288 with 1 Axes>"
      ]
     },
     "metadata": {
      "needs_background": "light"
     },
     "output_type": "display_data"
    },
    {
     "name": "stdout",
     "output_type": "stream",
     "text": [
      "(array([290, 330, 343, 365, 367], dtype=int64),)\n",
      "5\n",
      "-1015.1093111614214\n",
      "(array([  8,   9,  10,  88, 126, 130, 133, 134, 139, 141, 158, 191, 192,\n",
      "       199, 207, 212, 218, 290, 317, 328, 330, 343, 357, 365, 367],\n",
      "      dtype=int64),)\n",
      "25\n"
     ]
    },
    {
     "data": {
      "image/png": "[encoded data removed]",
      "text/plain": [
       "<Figure size 432x288 with 1 Axes>"
      ]
     },
     "metadata": {
      "needs_background": "light"
     },
     "output_type": "display_data"
    },
    {
     "name": "stdout",
     "output_type": "stream",
     "text": [
      "(array([  8,   9,  10,  88, 126, 130, 133, 134, 139, 141, 158, 191, 192,\n",
      "       199, 207, 212, 218, 290, 317, 328, 330, 343, 357, 365, 367],\n",
      "      dtype=int64),)\n",
      "25\n"
     ]
    }
   ],
   "source": [
    "for i in [0.01,0.05]:\n",
    "    model = LocalOutlierFactor(n_neighbors=20, contamination=i)\n",
    "    model.fit_predict(df)\n",
    "    lof = model.negative_outlier_factor_ \n",
    "    thresh = quantile(lof, i)\n",
    "    print(thresh)\n",
    "    index = where(lof<=thresh)\n",
    "    print(index)\n",
    "    print(len(index[0]))\n",
    "    values = df[index]\n",
    "    plt.scatter(df[:,0], df[:,1],label=\"Normal\")\n",
    "    plt.scatter(values[:,0], values[:,1], color='r', label=\"Outliers\")\n",
    "    plt.legend(loc=\"upper right\") \n",
    "    plt.show()\n",
    "\n",
    "    y_pred = model.fit_predict(df)\n",
    "    n_errors = (y_pred != 1).sum() \n",
    "    lofs_index = np.where(y_pred!=1) \n",
    "    print(lofs_index)\n",
    "    print(n_errors)"
   ]
  },
  {
   "cell_type": "code",
   "execution_count": null,
   "id": "a03dde22",
   "metadata": {},
   "outputs": [],
   "source": []
  },
  {
   "cell_type": "markdown",
   "id": "aafdf56f",
   "metadata": {},
   "source": [
    "#### isolation forest"
   ]
  },
  {
   "cell_type": "code",
   "execution_count": 148,
   "id": "a57c7401",
   "metadata": {},
   "outputs": [],
   "source": [
    "from sklearn.ensemble import IsolationForest"
   ]
  },
  {
   "cell_type": "code",
   "execution_count": 149,
   "id": "307fb5eb",
   "metadata": {},
   "outputs": [],
   "source": [
    "dataset = read_csv('result1.csv',index_col=0)\n",
    "df = pd.DataFrame(dataset,columns=['Historical Rts2 Price','Historical Rts2 Notional Amount'])\n",
    "df = df.dropna()\n",
    "df = df.to_numpy()\n",
    "ss = StandardScaler()\n",
    "#dff=ss.fit_transform(df)\n",
    "df = pd.DataFrame(ss.fit_transform(df), columns=[ 'Historical Rts2 Price','Historical Rts2 Notional Amount'])"
   ]
  },
  {
   "cell_type": "code",
   "execution_count": 160,
   "id": "046d114d",
   "metadata": {},
   "outputs": [
    {
     "name": "stdout",
     "output_type": "stream",
     "text": [
      "(array([  2, 299, 300, 312, 364], dtype=int64),)\n",
      "5\n"
     ]
    },
    {
     "data": {
      "image/png": "[encoded data removed]",
      "text/plain": [
       "<Figure size 432x288 with 1 Axes>"
      ]
     },
     "metadata": {
      "needs_background": "light"
     },
     "output_type": "display_data"
    },
    {
     "name": "stdout",
     "output_type": "stream",
     "text": [
      "(array([  0,   2,   3,   4,   5,   6,  11,  12,  14,  16,  17,  18,  78,\n",
      "       181, 207, 280, 299, 300, 301, 302, 312, 329, 331, 364, 373],\n",
      "      dtype=int64),)\n",
      "25\n"
     ]
    },
    {
     "data": {
      "image/png": "[encoded data removed]",
      "text/plain": [
       "<Figure size 432x288 with 1 Axes>"
      ]
     },
     "metadata": {
      "needs_background": "light"
     },
     "output_type": "display_data"
    }
   ],
   "source": [
    "for i in [0.01,0.05]:\n",
    "\n",
    "    IF = IsolationForest(n_estimators=100, contamination=i)\n",
    "    predictions = IF.fit_predict(df)\n",
    "\n",
    "    outlier_index = where(predictions==-1)\n",
    "    print(outlier_index)\n",
    "    print(len(outlier_index[0]))\n",
    "    values = df[outlier_index]\n",
    "    plt.scatter(df[:,0], df[:,1],label=\"Normal\")\n",
    "    plt.scatter(values[:,0], values[:,1], color='y',label=\"Outliers\")\n",
    "    plt.xlabel(\"Price\")\n",
    "    plt.ylabel(\"Notional Amount\")\n",
    "    plt.title('Scatter plot of Price vs.Notional Amount')\n",
    "    plt.legend()\n",
    "    plt.show()"
   ]
  },
  {
   "cell_type": "code",
   "execution_count": null,
   "id": "30e880cc",
   "metadata": {},
   "outputs": [],
   "source": []
  }
 ],
 "metadata": {
  "kernelspec": {
   "display_name": "Python 3 (ipykernel)",
   "language": "python",
   "name": "python3"
  },
  "language_info": {
   "codemirror_mode": {
    "name": "ipython",
    "version": 3
   },
   "file_extension": ".py",
   "mimetype": "text/x-python",
   "name": "python",
   "nbconvert_exporter": "python",
   "pygments_lexer": "ipython3",
   "version": "3.9.7"
  }
 },
 "nbformat": 4,
 "nbformat_minor": 5
}
